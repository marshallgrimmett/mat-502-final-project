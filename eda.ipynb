{
 "cells": [
  {
   "cell_type": "markdown",
   "metadata": {},
   "source": [
    "# 1 EDA and Data Cleaning"
   ]
  },
  {
   "cell_type": "code",
   "execution_count": 4,
   "metadata": {},
   "outputs": [],
   "source": [
    "#https://blog.myyellowroad.com/using-categorical-data-in-machine-learning-with-python-from-dummy-variables-to-deep-category-66041f734512\n",
    "#https://blog.myyellowroad.com/using-categorical-data-in-machine-learning-with-python-from-dummy-variables-to-deep-category-42fd0a43b009\n",
    "import pandas as pd\n",
    "import matplotlib.pyplot as plt\n",
    "import numpy as np\n",
    "import seaborn as sns"
   ]
  },
  {
   "cell_type": "code",
   "execution_count": 35,
   "metadata": {},
   "outputs": [
    {
     "data": {
      "text/html": [
       "<div>\n",
       "<style scoped>\n",
       "    .dataframe tbody tr th:only-of-type {\n",
       "        vertical-align: middle;\n",
       "    }\n",
       "\n",
       "    .dataframe tbody tr th {\n",
       "        vertical-align: top;\n",
       "    }\n",
       "\n",
       "    .dataframe thead th {\n",
       "        text-align: right;\n",
       "    }\n",
       "</style>\n",
       "<table border=\"1\" class=\"dataframe\">\n",
       "  <thead>\n",
       "    <tr style=\"text-align: right;\">\n",
       "      <th></th>\n",
       "      <th>DR Number</th>\n",
       "      <th>Date Reported</th>\n",
       "      <th>Date Occurred</th>\n",
       "      <th>Time Occurred</th>\n",
       "      <th>Area ID</th>\n",
       "      <th>Area Name</th>\n",
       "      <th>Reporting District</th>\n",
       "      <th>Crime Code</th>\n",
       "      <th>Crime Code Description</th>\n",
       "      <th>MO Codes</th>\n",
       "      <th>...</th>\n",
       "      <th>Weapon Description</th>\n",
       "      <th>Status Code</th>\n",
       "      <th>Status Description</th>\n",
       "      <th>Crime Code 1</th>\n",
       "      <th>Crime Code 2</th>\n",
       "      <th>Crime Code 3</th>\n",
       "      <th>Crime Code 4</th>\n",
       "      <th>Address</th>\n",
       "      <th>Cross Street</th>\n",
       "      <th>Location</th>\n",
       "    </tr>\n",
       "  </thead>\n",
       "  <tbody>\n",
       "    <tr>\n",
       "      <th>0</th>\n",
       "      <td>1208575</td>\n",
       "      <td>03/14/2013</td>\n",
       "      <td>03/11/2013</td>\n",
       "      <td>1800</td>\n",
       "      <td>12</td>\n",
       "      <td>77th Street</td>\n",
       "      <td>1241</td>\n",
       "      <td>626</td>\n",
       "      <td>INTIMATE PARTNER - SIMPLE ASSAULT</td>\n",
       "      <td>0416 0446 1243 2000</td>\n",
       "      <td>...</td>\n",
       "      <td>STRONG-ARM (HANDS, FIST, FEET OR BODILY FORCE)</td>\n",
       "      <td>AO</td>\n",
       "      <td>Adult Other</td>\n",
       "      <td>626.0</td>\n",
       "      <td>NaN</td>\n",
       "      <td>NaN</td>\n",
       "      <td>NaN</td>\n",
       "      <td>6300    BRYNHURST                    AV</td>\n",
       "      <td>NaN</td>\n",
       "      <td>(33.9829, -118.3338)</td>\n",
       "    </tr>\n",
       "    <tr>\n",
       "      <th>1</th>\n",
       "      <td>102005556</td>\n",
       "      <td>01/25/2010</td>\n",
       "      <td>01/22/2010</td>\n",
       "      <td>2300</td>\n",
       "      <td>20</td>\n",
       "      <td>Olympic</td>\n",
       "      <td>2071</td>\n",
       "      <td>510</td>\n",
       "      <td>VEHICLE - STOLEN</td>\n",
       "      <td>NaN</td>\n",
       "      <td>...</td>\n",
       "      <td>NaN</td>\n",
       "      <td>IC</td>\n",
       "      <td>Invest Cont</td>\n",
       "      <td>510.0</td>\n",
       "      <td>NaN</td>\n",
       "      <td>NaN</td>\n",
       "      <td>NaN</td>\n",
       "      <td>VAN NESS</td>\n",
       "      <td>15TH</td>\n",
       "      <td>(34.0454, -118.3157)</td>\n",
       "    </tr>\n",
       "    <tr>\n",
       "      <th>2</th>\n",
       "      <td>418</td>\n",
       "      <td>03/19/2013</td>\n",
       "      <td>03/18/2013</td>\n",
       "      <td>2030</td>\n",
       "      <td>18</td>\n",
       "      <td>Southeast</td>\n",
       "      <td>1823</td>\n",
       "      <td>510</td>\n",
       "      <td>VEHICLE - STOLEN</td>\n",
       "      <td>NaN</td>\n",
       "      <td>...</td>\n",
       "      <td>NaN</td>\n",
       "      <td>IC</td>\n",
       "      <td>Invest Cont</td>\n",
       "      <td>510.0</td>\n",
       "      <td>NaN</td>\n",
       "      <td>NaN</td>\n",
       "      <td>NaN</td>\n",
       "      <td>200 E  104TH                        ST</td>\n",
       "      <td>NaN</td>\n",
       "      <td>(33.942, -118.2717)</td>\n",
       "    </tr>\n",
       "    <tr>\n",
       "      <th>3</th>\n",
       "      <td>101822289</td>\n",
       "      <td>11/11/2010</td>\n",
       "      <td>11/10/2010</td>\n",
       "      <td>1800</td>\n",
       "      <td>18</td>\n",
       "      <td>Southeast</td>\n",
       "      <td>1803</td>\n",
       "      <td>510</td>\n",
       "      <td>VEHICLE - STOLEN</td>\n",
       "      <td>NaN</td>\n",
       "      <td>...</td>\n",
       "      <td>NaN</td>\n",
       "      <td>IC</td>\n",
       "      <td>Invest Cont</td>\n",
       "      <td>510.0</td>\n",
       "      <td>NaN</td>\n",
       "      <td>NaN</td>\n",
       "      <td>NaN</td>\n",
       "      <td>88TH</td>\n",
       "      <td>WALL</td>\n",
       "      <td>(33.9572, -118.2717)</td>\n",
       "    </tr>\n",
       "    <tr>\n",
       "      <th>4</th>\n",
       "      <td>42104479</td>\n",
       "      <td>01/11/2014</td>\n",
       "      <td>01/04/2014</td>\n",
       "      <td>2300</td>\n",
       "      <td>21</td>\n",
       "      <td>Topanga</td>\n",
       "      <td>2133</td>\n",
       "      <td>745</td>\n",
       "      <td>VANDALISM - MISDEAMEANOR ($399 OR UNDER)</td>\n",
       "      <td>0329</td>\n",
       "      <td>...</td>\n",
       "      <td>NaN</td>\n",
       "      <td>IC</td>\n",
       "      <td>Invest Cont</td>\n",
       "      <td>745.0</td>\n",
       "      <td>NaN</td>\n",
       "      <td>NaN</td>\n",
       "      <td>NaN</td>\n",
       "      <td>7200    CIRRUS                       WY</td>\n",
       "      <td>NaN</td>\n",
       "      <td>(34.2009, -118.6369)</td>\n",
       "    </tr>\n",
       "  </tbody>\n",
       "</table>\n",
       "<p>5 rows × 26 columns</p>\n",
       "</div>"
      ],
      "text/plain": [
       "   DR Number Date Reported Date Occurred  Time Occurred  Area ID    Area Name  \\\n",
       "0    1208575    03/14/2013    03/11/2013           1800       12  77th Street   \n",
       "1  102005556    01/25/2010    01/22/2010           2300       20      Olympic   \n",
       "2        418    03/19/2013    03/18/2013           2030       18    Southeast   \n",
       "3  101822289    11/11/2010    11/10/2010           1800       18    Southeast   \n",
       "4   42104479    01/11/2014    01/04/2014           2300       21      Topanga   \n",
       "\n",
       "   Reporting District  Crime Code                    Crime Code Description  \\\n",
       "0                1241         626         INTIMATE PARTNER - SIMPLE ASSAULT   \n",
       "1                2071         510                          VEHICLE - STOLEN   \n",
       "2                1823         510                          VEHICLE - STOLEN   \n",
       "3                1803         510                          VEHICLE - STOLEN   \n",
       "4                2133         745  VANDALISM - MISDEAMEANOR ($399 OR UNDER)   \n",
       "\n",
       "              MO Codes          ...           \\\n",
       "0  0416 0446 1243 2000          ...            \n",
       "1                  NaN          ...            \n",
       "2                  NaN          ...            \n",
       "3                  NaN          ...            \n",
       "4                 0329          ...            \n",
       "\n",
       "                               Weapon Description Status Code  \\\n",
       "0  STRONG-ARM (HANDS, FIST, FEET OR BODILY FORCE)          AO   \n",
       "1                                             NaN          IC   \n",
       "2                                             NaN          IC   \n",
       "3                                             NaN          IC   \n",
       "4                                             NaN          IC   \n",
       "\n",
       "  Status Description  Crime Code 1 Crime Code 2  Crime Code 3 Crime Code 4  \\\n",
       "0        Adult Other         626.0          NaN           NaN          NaN   \n",
       "1        Invest Cont         510.0          NaN           NaN          NaN   \n",
       "2        Invest Cont         510.0          NaN           NaN          NaN   \n",
       "3        Invest Cont         510.0          NaN           NaN          NaN   \n",
       "4        Invest Cont         745.0          NaN           NaN          NaN   \n",
       "\n",
       "                                   Address Cross Street             Location   \n",
       "0  6300    BRYNHURST                    AV          NaN  (33.9829, -118.3338)  \n",
       "1                                 VAN NESS         15TH  (34.0454, -118.3157)  \n",
       "2   200 E  104TH                        ST          NaN   (33.942, -118.2717)  \n",
       "3                                     88TH         WALL  (33.9572, -118.2717)  \n",
       "4  7200    CIRRUS                       WY          NaN  (34.2009, -118.6369)  \n",
       "\n",
       "[5 rows x 26 columns]"
      ]
     },
     "execution_count": 35,
     "metadata": {},
     "output_type": "execute_result"
    }
   ],
   "source": [
    "# read in data\n",
    "data = pd.read_csv('data/Crime_Data_2010_2017.csv')\n",
    "data.head()"
   ]
  },
  {
   "cell_type": "code",
   "execution_count": 26,
   "metadata": {},
   "outputs": [
    {
     "data": {
      "text/plain": [
       "Index(['DR Number', 'Date Reported', 'Date Occurred', 'Time Occurred',\n",
       "       'Area ID', 'Area Name', 'Reporting District', 'Crime Code',\n",
       "       'Crime Code Description', 'MO Codes', 'Victim Age', 'Victim Sex',\n",
       "       'Victim Descent', 'Premise Code', 'Premise Description',\n",
       "       'Weapon Used Code', 'Weapon Description', 'Status Code',\n",
       "       'Status Description', 'Crime Code 1', 'Crime Code 2', 'Crime Code 3',\n",
       "       'Crime Code 4', 'Address', 'Cross Street', 'Location '],\n",
       "      dtype='object')"
      ]
     },
     "execution_count": 26,
     "metadata": {},
     "output_type": "execute_result"
    }
   ],
   "source": [
    "data.columns"
   ]
  },
  {
   "cell_type": "code",
   "execution_count": 27,
   "metadata": {},
   "outputs": [
    {
     "data": {
      "text/plain": [
       "1584316"
      ]
     },
     "execution_count": 27,
     "metadata": {},
     "output_type": "execute_result"
    }
   ],
   "source": [
    "len(data)"
   ]
  },
  {
   "cell_type": "code",
   "execution_count": 28,
   "metadata": {},
   "outputs": [
    {
     "data": {
      "text/plain": [
       "DR Number                       0\n",
       "Date Reported                   0\n",
       "Date Occurred                   0\n",
       "Time Occurred                   0\n",
       "Area ID                         0\n",
       "Area Name                       0\n",
       "Reporting District              0\n",
       "Crime Code                      0\n",
       "Crime Code Description        412\n",
       "MO Codes                   171759\n",
       "Victim Age                 128659\n",
       "Victim Sex                 145199\n",
       "Victim Descent             145232\n",
       "Premise Code                   76\n",
       "Premise Description          2751\n",
       "Weapon Used Code          1059559\n",
       "Weapon Description        1059560\n",
       "Status Code                     2\n",
       "Status Description              0\n",
       "Crime Code 1                    7\n",
       "Crime Code 2              1484319\n",
       "Crime Code 3              1582133\n",
       "Crime Code 4              1584247\n",
       "Address                         0\n",
       "Cross Street              1321583\n",
       "Location                        9\n",
       "dtype: int64"
      ]
     },
     "execution_count": 28,
     "metadata": {},
     "output_type": "execute_result"
    }
   ],
   "source": [
    "# Number of null values for each column\n",
    "data.isnull().sum()"
   ]
  },
  {
   "cell_type": "markdown",
   "metadata": {},
   "source": [
    "## 1.1 Analyze Columns and Convert them to numerical representations"
   ]
  },
  {
   "cell_type": "markdown",
   "metadata": {},
   "source": [
    "### 1.1.1 Victim Sex"
   ]
  },
  {
   "cell_type": "code",
   "execution_count": 29,
   "metadata": {},
   "outputs": [
    {
     "name": "stdout",
     "output_type": "stream",
     "text": [
      "['F' nan 'M' 'H' 'X' '-']\n",
      "Victim Sex\n",
      "-         1\n",
      "F    675402\n",
      "H        53\n",
      "M    739581\n",
      "X     24080\n",
      "Name: DR Number, dtype: int64\n",
      "Null: 145199\n"
     ]
    }
   ],
   "source": [
    "print(data['Victim Sex'].unique())\n",
    "print(data.groupby('Victim Sex')['DR Number'].nunique())\n",
    "print('Null:', data['Victim Sex'].isnull().sum())"
   ]
  },
  {
   "cell_type": "code",
   "execution_count": 36,
   "metadata": {},
   "outputs": [],
   "source": [
    "# Turn Victim Sex into 0 for male, 1 for female, and nan for other\n",
    "data.loc[data['Victim Sex'] == 'M', 'Victim Sex'] = 0\n",
    "data.loc[data['Victim Sex'] == 'F', 'Victim Sex'] = 1\n",
    "data.loc[data['Victim Sex'] == '-', 'Victim Sex'] = 2\n",
    "data.loc[data['Victim Sex'] == 'H', 'Victim Sex'] = 2\n",
    "data.loc[data['Victim Sex'] == 'X', 'Victim Sex'] = 2\n",
    "data.loc[data['Victim Sex'].isna(), 'Victim Sex'] = 2\n",
    "\n",
    "# Convert column type from string to bool\n",
    "data.loc[:, 'Victim Sex'] = data.loc[:, 'Victim Sex'].astype(int)"
   ]
  },
  {
   "cell_type": "code",
   "execution_count": 18,
   "metadata": {},
   "outputs": [
    {
     "name": "stdout",
     "output_type": "stream",
     "text": [
      "[1 nan 0 2]\n"
     ]
    }
   ],
   "source": [
    "# check that it worked\n",
    "print(data['Victim Sex'].unique())"
   ]
  },
  {
   "cell_type": "markdown",
   "metadata": {},
   "source": [
    "### 1.1.2 Victim Descent"
   ]
  },
  {
   "cell_type": "code",
   "execution_count": 19,
   "metadata": {},
   "outputs": [],
   "source": [
    "# Pulled from: https://ambarishg.github.io/books/LittleBookDataViz/victim-descent.html\n",
    "VictimDescentAbbr = (\"A\",\"B\",\"C\",\"D\",\"F\",\"G\",\"H\",\"I\",\"J\",\"K\",\"L\",\"O\",\"P\",\"S\",\"U\",\"V\",\"W\",\"X\",\"Z\")\n",
    "VictimDescentDescription = (\"Other Asian\",\"Black\",\n",
    "                             \"Chinese\",\"Cambodian\",\"Filipino\",\n",
    "                             \"Guamanian\",\"Hispanic/Latin/Mexican\",\n",
    "                             \"American Indian/Alaskan Native\",\n",
    "                             \"Japanese\",\"Korean\",\"Laotian \",\n",
    "                             \"Other\",\"Pacific Islander\",\n",
    "                             \"Samoan\",\"Hawaiian\",\"Vietnamese\",\n",
    "                             \"White\",\"Unknown\",\"AsianIndian\")"
   ]
  },
  {
   "cell_type": "code",
   "execution_count": 20,
   "metadata": {},
   "outputs": [
    {
     "name": "stdout",
     "output_type": "stream",
     "text": [
      "['W' nan 'O' 'H' 'B' 'A' 'X' 'F' 'I' 'K' 'G' 'C' 'J' 'Z' 'P' 'V' 'U' 'L'\n",
      " 'S' 'D' '-']\n",
      "Victim Descent\n",
      "-         1\n",
      "A     37143\n",
      "B    255056\n",
      "C       618\n",
      "D        15\n",
      "F      1885\n",
      "G        61\n",
      "H    549515\n",
      "I       663\n",
      "J       237\n",
      "K      7136\n",
      "L        10\n",
      "O    152776\n",
      "P       276\n",
      "S        24\n",
      "U       137\n",
      "V        86\n",
      "W    391855\n",
      "X     41535\n",
      "Z        55\n",
      "Name: DR Number, dtype: int64\n",
      "Null: 145232\n"
     ]
    }
   ],
   "source": [
    "print(data['Victim Descent'].unique())\n",
    "print(data.groupby('Victim Descent')['DR Number'].nunique())\n",
    "print('Null:', data['Victim Descent'].isnull().sum())"
   ]
  },
  {
   "cell_type": "code",
   "execution_count": 21,
   "metadata": {},
   "outputs": [
    {
     "data": {
      "text/plain": [
       "[[0, None, None],\n",
       " [1, 'A', 'Other Asian'],\n",
       " [2, 'B', 'Black'],\n",
       " [3, 'C', 'Chinese'],\n",
       " [4, 'D', 'Cambodian'],\n",
       " [5, 'F', 'Filipino'],\n",
       " [6, 'G', 'Guamanian'],\n",
       " [7, 'H', 'Hispanic/Latin/Mexican'],\n",
       " [8, 'I', 'American Indian/Alaskan Native'],\n",
       " [9, 'J', 'Japanese'],\n",
       " [10, 'K', 'Korean'],\n",
       " [11, 'L', 'Laotian '],\n",
       " [12, 'O', 'Other'],\n",
       " [13, 'P', 'Pacific Islander'],\n",
       " [14, 'S', 'Samoan'],\n",
       " [15, 'U', 'Hawaiian'],\n",
       " [16, 'V', 'Vietnamese'],\n",
       " [17, 'W', 'White'],\n",
       " [18, 'X', 'Unknown'],\n",
       " [19, 'Z', 'AsianIndian']]"
      ]
     },
     "execution_count": 21,
     "metadata": {},
     "output_type": "execute_result"
    }
   ],
   "source": [
    "# The dictionary for the descent codes\n",
    "descent_dict = [[0, None, None]]\n",
    "for i in range(len(VictimDescentAbbr)):\n",
    "    descent_dict.append([i+1, VictimDescentAbbr[i], VictimDescentDescription[i]])\n",
    "descent_dict"
   ]
  },
  {
   "cell_type": "code",
   "execution_count": 22,
   "metadata": {},
   "outputs": [
    {
     "data": {
      "text/plain": [
       "\"pd.DataFrame(descent_dict,\\n             columns=['Victim Descent', 'Victim Descent Abbr', 'Victim Descent Desc']).to_csv('data/descent_codes.csv')\""
      ]
     },
     "execution_count": 22,
     "metadata": {},
     "output_type": "execute_result"
    }
   ],
   "source": [
    "# Saves the descent codes to a csv, only needs to be run once.\n",
    "'''pd.DataFrame(descent_dict,\n",
    "             columns=['Victim Descent', 'Victim Descent Abbr', 'Victim Descent Desc']).to_csv('data/descent_codes.csv')'''"
   ]
  },
  {
   "cell_type": "code",
   "execution_count": 37,
   "metadata": {},
   "outputs": [],
   "source": [
    "# Assign each letter a number\n",
    "\n",
    "#'-' gets nan, will be set to mean later\n",
    "data.loc[data['Victim Descent'] == '-', 'Victim Descent'] = 0\n",
    "data.loc[data['Victim Descent'].isna(), 'Victim Descent'] = 0\n",
    "\n",
    "for i in range(len(VictimDescentAbbr)):\n",
    "    data.loc[data['Victim Descent'] == VictimDescentAbbr[i], 'Victim Descent'] = i + 1\n",
    "\n",
    "# Convert to column to integers\n",
    "data.loc[:, 'Victim Descent'] = data.loc[:, 'Victim Descent'].astype(int)"
   ]
  },
  {
   "cell_type": "code",
   "execution_count": null,
   "metadata": {},
   "outputs": [],
   "source": [
    "# Check to see that it worked\n",
    "print(data['Victim Descent'].unique())"
   ]
  },
  {
   "cell_type": "markdown",
   "metadata": {},
   "source": [
    "### 1.1.3 Victim Age"
   ]
  },
  {
   "cell_type": "code",
   "execution_count": 15,
   "metadata": {},
   "outputs": [
    {
     "name": "stdout",
     "output_type": "stream",
     "text": [
      "[30. nan 12. 84. 49. 27. 42. 29. 19. 23. 39. 18. 25. 34. 37. 50. 20. 32.\n",
      " 24. 48. 45. 60. 40. 46. 22. 53. 36. 57. 56. 26. 52. 33. 21. 59. 28. 35.\n",
      " 51. 41. 11. 10. 31. 43. 38. 73. 58. 70. 62. 55. 13. 66. 15. 68. 61. 63.\n",
      " 54. 69. 44. 47. 14. 64. 93. 72. 65. 92. 75. 88. 97. 82. 17. 16. 81. 74.\n",
      " 67. 71. 83. 77. 78. 80. 76. 99. 89. 79. 86. 94. 90. 85. 95. 91. 87. 96.\n",
      " 98.]\n"
     ]
    }
   ],
   "source": [
    "print(data['Victim Age'].unique())\n",
    "#print(data.groupby('Victim Age')['DR Number'].nunique())\n",
    "#print('Null:', data['Victim Age'].isnull().sum())"
   ]
  },
  {
   "cell_type": "markdown",
   "metadata": {},
   "source": [
    "### 1.1.4 Location"
   ]
  },
  {
   "cell_type": "code",
   "execution_count": 16,
   "metadata": {},
   "outputs": [
    {
     "data": {
      "text/plain": [
       "0    (33.9829, -118.3338)\n",
       "1    (34.0454, -118.3157)\n",
       "2     (33.942, -118.2717)\n",
       "3    (33.9572, -118.2717)\n",
       "4    (34.2009, -118.6369)\n",
       "Name: Location , dtype: object"
      ]
     },
     "execution_count": 16,
     "metadata": {},
     "output_type": "execute_result"
    }
   ],
   "source": [
    "data['Location '].head()"
   ]
  },
  {
   "cell_type": "code",
   "execution_count": 38,
   "metadata": {},
   "outputs": [],
   "source": [
    "# Slow computation\n",
    "# Split the location into two seperate columns, longitude and latitude\n",
    "\n",
    "tempDict = {'Longitude':[], 'Latitude':[]}\n",
    "\n",
    "for i in range(len(data)):\n",
    "    try:\n",
    "        temp = data['Location '][i].split(',')\n",
    "        long = float(temp[0][1:])\n",
    "        lat = float(temp[1][:-1])\n",
    "        \n",
    "        # Remove outliers\n",
    "        if long == 0 or lat == 0:\n",
    "            raise Exception()\n",
    "        \n",
    "        tempDict['Longitude'].append(long)\n",
    "        tempDict['Latitude'].append(lat)\n",
    "        \n",
    "    except:\n",
    "        tempDict['Longitude'].append(np.nan)\n",
    "        tempDict['Latitude'].append(np.nan)"
   ]
  },
  {
   "cell_type": "code",
   "execution_count": 39,
   "metadata": {},
   "outputs": [],
   "source": [
    "data.loc[:, 'Longitude'] = tempDict['Longitude']\n",
    "data.loc[:, 'Latitude'] = tempDict['Latitude']\n",
    "del tempDict"
   ]
  },
  {
   "cell_type": "code",
   "execution_count": 19,
   "metadata": {},
   "outputs": [
    {
     "data": {
      "image/png": "[encoded data removed]",
      "text/plain": [
       "<Figure size 432x288 with 1 Axes>"
      ]
     },
     "metadata": {
      "needs_background": "light"
     },
     "output_type": "display_data"
    }
   ],
   "source": [
    "# Plot the crime locations\n",
    "plt.scatter(data['Longitude'], data['Latitude'])\n",
    "\n",
    "# Plot Hollywood crimes for comparison\n",
    "hollywood = data.loc[data['Area ID'] == 6, ['Longitude', 'Latitude']]\n",
    "plt.scatter(hollywood['Longitude'], hollywood['Latitude'])\n",
    "\n",
    "plt.show()\n",
    "\n",
    "del hollywood"
   ]
  },
  {
   "cell_type": "markdown",
   "metadata": {},
   "source": [
    "### 1.1.5 Status Code (removed from final dataset)"
   ]
  },
  {
   "cell_type": "code",
   "execution_count": 20,
   "metadata": {},
   "outputs": [
    {
     "name": "stdout",
     "output_type": "stream",
     "text": [
      "['AO' 'IC' 'AA' 'JA' 'JO' nan 'CC' 'TH' '13' '19']\n",
      "Status Code\n",
      "13          1\n",
      "19          1\n",
      "AA     162424\n",
      "AO     178175\n",
      "CC         24\n",
      "IC    1227180\n",
      "JA      12619\n",
      "JO       3889\n",
      "TH          1\n",
      "Name: DR Number, dtype: int64\n",
      "Null: 2\n"
     ]
    }
   ],
   "source": [
    "print(data['Status Code'].unique())\n",
    "print(data.groupby('Status Code')['DR Number'].nunique())\n",
    "print('Null:', data['Status Code'].isnull().sum())"
   ]
  },
  {
   "cell_type": "code",
   "execution_count": 21,
   "metadata": {},
   "outputs": [
    {
     "name": "stdout",
     "output_type": "stream",
     "text": [
      "['Adult Other' 'Invest Cont' 'Adult Arrest' 'Juv Arrest' 'Juv Other' 'UNK']\n",
      "Status Description\n",
      "Adult Arrest     162424\n",
      "Adult Other      178175\n",
      "Invest Cont     1227180\n",
      "Juv Arrest        12619\n",
      "Juv Other          3889\n",
      "UNK                  29\n",
      "Name: DR Number, dtype: int64\n",
      "Null: 0\n"
     ]
    }
   ],
   "source": [
    "print(data['Status Description'].unique())\n",
    "print(data.groupby('Status Description')['DR Number'].nunique())\n",
    "print('Null:', data['Status Description'].isnull().sum())"
   ]
  },
  {
   "cell_type": "markdown",
   "metadata": {},
   "source": [
    "### 1.1.6 Date Occurred"
   ]
  },
  {
   "cell_type": "code",
   "execution_count": 22,
   "metadata": {},
   "outputs": [
    {
     "name": "stdout",
     "output_type": "stream",
     "text": [
      "Null: 0\n"
     ]
    }
   ],
   "source": [
    "# Print number of nulls\n",
    "print('Null:', data['Date Occurred'].isnull().sum())"
   ]
  },
  {
   "cell_type": "code",
   "execution_count": 23,
   "metadata": {},
   "outputs": [],
   "source": [
    "# convert to datetime\n",
    "data.loc[:, 'Date Occurred'] = pd.to_datetime(data.loc[:, 'Date Occurred'], format='%m/%d/%Y')\n",
    "\n",
    "# convert to unix timestamp\n",
    "data.loc[:, 'Timestamp'] = data.loc[:, 'Date Occurred'].astype(np.int64) // 10**9"
   ]
  },
  {
   "cell_type": "code",
   "execution_count": 24,
   "metadata": {},
   "outputs": [],
   "source": [
    "# Seperate the date column into month, day, year\n",
    "data.loc[:, 'Month'] = data.loc[:, 'Date Occurred'].dt.month\n",
    "data.loc[:, 'Day'] = data.loc[:, 'Date Occurred'].dt.day\n",
    "data.loc[:, 'Year'] = data.loc[:, 'Date Occurred'].dt.year"
   ]
  },
  {
   "cell_type": "markdown",
   "metadata": {},
   "source": [
    "### 1.1.7 Make List Function"
   ]
  },
  {
   "cell_type": "code",
   "execution_count": 40,
   "metadata": {},
   "outputs": [],
   "source": [
    "def make_list(data, code, desc):\n",
    "    '''\n",
    "    Creates a dictionary that maps the codes to a description.\n",
    "    Note: Does not account for errors in the data.\n",
    "    The function will add the first occurence of each code into the dict with its associated description.\n",
    "    '''\n",
    "    codes = data[code].unique()\n",
    "    d = []\n",
    "    for i in codes:\n",
    "        temp = data[data[code] == i]\n",
    "        if not temp.empty:\n",
    "            d.append([i, temp[desc].iloc[0]])\n",
    "    return d"
   ]
  },
  {
   "cell_type": "markdown",
   "metadata": {},
   "source": [
    "### 1.1.7 Weapon Used Code"
   ]
  },
  {
   "cell_type": "code",
   "execution_count": 26,
   "metadata": {},
   "outputs": [],
   "source": [
    "# Make new column for whether or not a weapon was used. 0 if no weapon, 1 if weapon\n",
    "data.loc[data['Weapon Used Code'].isna(), 'Weapon Used Bool'] = 0\n",
    "data.loc[data['Weapon Used Code'].notna(), 'Weapon Used Bool'] = 1"
   ]
  },
  {
   "cell_type": "code",
   "execution_count": 27,
   "metadata": {},
   "outputs": [],
   "source": [
    "weap_list = make_list(data, 'Weapon Used Code', 'Weapon Description')"
   ]
  },
  {
   "cell_type": "code",
   "execution_count": 28,
   "metadata": {},
   "outputs": [
    {
     "data": {
      "text/plain": [
       "[[101.0, 'REVOLVER'],\n",
       " [102.0, 'HAND GUN'],\n",
       " [103.0, 'RIFLE'],\n",
       " [104.0, 'SHOTGUN'],\n",
       " [105.0, 'SAWED OFF RIFLE/SHOTGUN'],\n",
       " [106.0, 'UNKNOWN FIREARM'],\n",
       " [107.0, 'OTHER FIREARM'],\n",
       " [108.0, 'AUTOMATIC WEAPON/SUB-MACHINE GUN'],\n",
       " [109.0, 'SEMI-AUTOMATIC PISTOL'],\n",
       " [110.0, 'SEMI-AUTOMATIC RIFLE'],\n",
       " [111.0, 'STARTER PISTOL/REVOLVER'],\n",
       " [112.0, 'TOY GUN'],\n",
       " [113.0, 'SIMULATED GUN'],\n",
       " [114.0, 'AIR PISTOL/REVOLVER/RIFLE/BB GUN'],\n",
       " [115.0, 'ASSAULT WEAPON/UZI/AK47/ETC'],\n",
       " [116.0, 'ANTIQUE FIREARM'],\n",
       " [117.0, 'UNK TYPE SEMIAUTOMATIC ASSAULT RIFLE'],\n",
       " [118.0, 'UZI SEMIAUTOMATIC ASSAULT RIFLE'],\n",
       " [119.0, 'MAC-10 SEMIAUTOMATIC ASSAULT WEAPON'],\n",
       " [120.0, 'MAC-11 SEMIAUTOMATIC ASSAULT WEAPON'],\n",
       " [121.0, 'HECKLER & KOCH 91 SEMIAUTOMATIC ASSAULT RIFLE'],\n",
       " [122.0, 'HECKLER & KOCH 93 SEMIAUTOMATIC ASSAULT RIFLE'],\n",
       " [123.0, 'M1-1 SEMIAUTOMATIC ASSAULT RIFLE'],\n",
       " [124.0, 'M-14 SEMIAUTOMATIC ASSAULT RIFLE'],\n",
       " [125.0, 'RELIC FIREARM'],\n",
       " [200.0, 'KNIFE WITH BLADE 6INCHES OR LESS'],\n",
       " [201.0, 'KNIFE WITH BLADE OVER 6 INCHES IN LENGTH'],\n",
       " [202.0, 'BOWIE KNIFE'],\n",
       " [203.0, 'DIRK/DAGGER'],\n",
       " [204.0, 'FOLDING KNIFE'],\n",
       " [205.0, 'KITCHEN KNIFE'],\n",
       " [206.0, 'SWITCH BLADE'],\n",
       " [207.0, 'OTHER KNIFE'],\n",
       " [208.0, 'RAZOR'],\n",
       " [209.0, 'STRAIGHT RAZOR'],\n",
       " [210.0, 'RAZOR BLADE'],\n",
       " [211.0, 'AXE'],\n",
       " [212.0, 'BOTTLE'],\n",
       " [213.0, 'CLEAVER'],\n",
       " [214.0, 'ICE PICK'],\n",
       " [215.0, 'MACHETE'],\n",
       " [216.0, 'SCISSORS'],\n",
       " [217.0, 'SWORD'],\n",
       " [218.0, 'OTHER CUTTING INSTRUMENT'],\n",
       " [219.0, 'SCREWDRIVER'],\n",
       " [220.0, 'SYRINGE'],\n",
       " [221.0, 'GLASS'],\n",
       " [222.0, nan],\n",
       " [223.0, 'UNKNOWN TYPE CUTTING INSTRUMENT'],\n",
       " [300.0, 'BLACKJACK'],\n",
       " [301.0, 'BELT FLAILING INSTRUMENT/CHAIN'],\n",
       " [302.0, 'BLUNT INSTRUMENT'],\n",
       " [303.0, 'BRASS KNUCKLES'],\n",
       " [304.0, 'CLUB/BAT'],\n",
       " [305.0, 'FIXED OBJECT'],\n",
       " [306.0, 'ROCK/THROWN OBJECT'],\n",
       " [307.0, 'VEHICLE'],\n",
       " [308.0, 'STICK'],\n",
       " [309.0, 'BOARD'],\n",
       " [310.0, 'CONCRETE BLOCK/BRICK'],\n",
       " [311.0, 'HAMMER'],\n",
       " [312.0, 'PIPE/METAL PIPE'],\n",
       " [400.0, 'STRONG-ARM (HANDS, FIST, FEET OR BODILY FORCE)'],\n",
       " [500.0, 'UNKNOWN WEAPON/OTHER WEAPON'],\n",
       " [501.0, 'BOMB THREAT'],\n",
       " [502.0, 'BOW AND ARROW'],\n",
       " [503.0, 'CAUSTIC CHEMICAL/POISON'],\n",
       " [504.0, 'DEMAND NOTE'],\n",
       " [505.0, 'EXPLOXIVE DEVICE'],\n",
       " [506.0, 'FIRE'],\n",
       " [507.0, 'LIQUOR/DRUGS'],\n",
       " [508.0, 'MARTIAL ARTS WEAPONS'],\n",
       " [509.0, 'ROPE/LIGATURE'],\n",
       " [510.0, 'SCALDING LIQUID'],\n",
       " [511.0, 'VERBAL THREAT'],\n",
       " [512.0, 'MACE/PEPPER SPRAY'],\n",
       " [513.0, 'STUN GUN'],\n",
       " [514.0, 'TIRE IRON'],\n",
       " [515.0, 'PHYSICAL PRESENCE'],\n",
       " [516.0, 'DOG/ANIMAL (SIC ANIMAL ON)']]"
      ]
     },
     "execution_count": 28,
     "metadata": {},
     "output_type": "execute_result"
    }
   ],
   "source": [
    "sorted(weap_list)"
   ]
  },
  {
   "cell_type": "code",
   "execution_count": 29,
   "metadata": {},
   "outputs": [],
   "source": [
    "# Saves the weapon codes to a csv, only needs to be run once.\n",
    "#pd.DataFrame(weap_list, columns=['Weapon Used Code', 'Weapon Description']).to_csv('data/weapon_codes.csv')"
   ]
  },
  {
   "cell_type": "markdown",
   "metadata": {},
   "source": [
    "### 1.1.8 Crime Code"
   ]
  },
  {
   "cell_type": "code",
   "execution_count": 30,
   "metadata": {},
   "outputs": [],
   "source": [
    "crime_list = make_list(data, 'Crime Code', 'Crime Code Description')"
   ]
  },
  {
   "cell_type": "code",
   "execution_count": 31,
   "metadata": {},
   "outputs": [
    {
     "data": {
      "text/plain": [
       "[[110, 'CRIMINAL HOMICIDE'],\n",
       " [113, 'MANSLAUGHTER, NEGLIGENT'],\n",
       " [121, 'RAPE, FORCIBLE'],\n",
       " [122, 'RAPE, ATTEMPTED'],\n",
       " [210, 'ROBBERY'],\n",
       " [220, 'ATTEMPTED ROBBERY'],\n",
       " [230, 'ASSAULT WITH DEADLY WEAPON, AGGRAVATED ASSAULT'],\n",
       " [231, 'ASSAULT WITH DEADLY WEAPON ON POLICE OFFICER'],\n",
       " [235, 'CHILD ABUSE (PHYSICAL) - AGGRAVATED ASSAULT'],\n",
       " [236, 'INTIMATE PARTNER - AGGRAVATED ASSAULT'],\n",
       " [237, 'CHILD NEGLECT (SEE 300 W.I.C.)'],\n",
       " [250, 'SHOTS FIRED AT MOVING VEHICLE, TRAIN OR AIRCRAFT'],\n",
       " [251, 'SHOTS FIRED AT INHABITED DWELLING'],\n",
       " [310, 'BURGLARY'],\n",
       " [320, 'BURGLARY, ATTEMPTED'],\n",
       " [330, 'BURGLARY FROM VEHICLE'],\n",
       " [331, 'THEFT FROM MOTOR VEHICLE - GRAND ($400 AND OVER)'],\n",
       " [341, 'THEFT-GRAND ($950.01 & OVER)EXCPT,GUNS,FOWL,LIVESTK,PROD0036'],\n",
       " [343, 'SHOPLIFTING-GRAND THEFT ($950.01 & OVER)'],\n",
       " [345, 'DISHONEST EMPLOYEE - GRAND THEFT'],\n",
       " [347, 'GRAND THEFT / INSURANCE FRAUD'],\n",
       " [349, 'GRAND THEFT / AUTO REPAIR'],\n",
       " [350, 'THEFT, PERSON'],\n",
       " [351, 'PURSE SNATCHING'],\n",
       " [352, 'PICKPOCKET'],\n",
       " [353, 'DRUNK ROLL'],\n",
       " [354, 'THEFT OF IDENTITY'],\n",
       " [410, 'BURGLARY FROM VEHICLE, ATTEMPTED'],\n",
       " [420, 'THEFT FROM MOTOR VEHICLE - PETTY ($950 & UNDER)'],\n",
       " [421, 'THEFT FROM MOTOR VEHICLE - ATTEMPT'],\n",
       " [432, 'BLOCKING DOOR INDUCTION CENTER'],\n",
       " [433, 'DRIVING WITHOUT OWNER CONSENT (DWOC)'],\n",
       " [434, 'FALSE IMPRISONMENT'],\n",
       " [435, 'LYNCHING'],\n",
       " [436, 'LYNCHING - ATTEMPTED'],\n",
       " [437, 'RESISTING ARREST'],\n",
       " [438, 'RECKLESS DRIVING'],\n",
       " [439, 'FALSE POLICE REPORT'],\n",
       " [440, 'THEFT PLAIN - PETTY ($950 & UNDER)'],\n",
       " [441, 'THEFT PLAIN - ATTEMPT'],\n",
       " [442, 'SHOPLIFTING - PETTY THEFT ($950 & UNDER)'],\n",
       " [443, 'SHOPLIFTING - ATTEMPT'],\n",
       " [444, 'DISHONEST EMPLOYEE - PETTY THEFT'],\n",
       " [445, 'DISHONEST EMPLOYEE ATTEMPTED THEFT'],\n",
       " [446, 'PETTY THEFT - AUTO REPAIR'],\n",
       " [450, 'THEFT FROM PERSON - ATTEMPT'],\n",
       " [451, 'PURSE SNATCHING - ATTEMPT'],\n",
       " [452, 'PICKPOCKET, ATTEMPT'],\n",
       " [453, 'DRUNK ROLL - ATTEMPT'],\n",
       " [470, 'TILL TAP - GRAND THEFT ($950.01 & OVER)'],\n",
       " [471, 'TILL TAP - PETTY ($950 & UNDER)'],\n",
       " [472, 'TILL TAP - ATTEMPT'],\n",
       " [473, 'THEFT, COIN MACHINE - GRAND ($950.01 & OVER)'],\n",
       " [474, 'THEFT, COIN MACHINE - PETTY ($950 & UNDER)'],\n",
       " [475, 'THEFT, COIN MACHINE - ATTEMPT'],\n",
       " [480, 'BIKE - STOLEN'],\n",
       " [485, 'BIKE - ATTEMPTED STOLEN'],\n",
       " [487, 'BOAT - STOLEN'],\n",
       " [510, 'VEHICLE - STOLEN'],\n",
       " [520, 'VEHICLE - ATTEMPT STOLEN'],\n",
       " [622, 'BATTERY ON A FIREFIGHTER'],\n",
       " [623, 'BATTERY POLICE (SIMPLE)'],\n",
       " [624, 'BATTERY - SIMPLE ASSAULT'],\n",
       " [625, 'OTHER ASSAULT'],\n",
       " [626, 'INTIMATE PARTNER - SIMPLE ASSAULT'],\n",
       " [627, 'CHILD ABUSE (PHYSICAL) - SIMPLE ASSAULT'],\n",
       " [647, 'THROWING OBJECT AT MOVING VEHICLE'],\n",
       " [648, 'ARSON'],\n",
       " [649, 'DOCUMENT FORGERY / STOLEN FELONY'],\n",
       " [651, 'DOCUMENT WORTHLESS ($200.01 & OVER)'],\n",
       " [652, 'DOCUMENT WORTHLESS ($200 & UNDER)'],\n",
       " [653, 'CREDIT CARDS, FRAUD USE ($950.01 & OVER)'],\n",
       " [654, 'CREDIT CARDS, FRAUD USE ($950 & UNDER'],\n",
       " [660, 'COUNTERFEIT'],\n",
       " [661, 'UNAUTHORIZED COMPUTER ACCESS'],\n",
       " [662, 'BUNCO, GRAND THEFT'],\n",
       " [664, 'BUNCO, PETTY THEFT'],\n",
       " [666, 'BUNCO, ATTEMPT'],\n",
       " [668, 'EMBEZZLEMENT, GRAND THEFT ($950.01 & OVER)'],\n",
       " [670, 'EMBEZZLEMENT, PETTY THEFT ($950 & UNDER)'],\n",
       " [740, 'VANDALISM - FELONY ($400 & OVER, ALL CHURCH VANDALISMS) 0114'],\n",
       " [745, 'VANDALISM - MISDEAMEANOR ($399 OR UNDER)'],\n",
       " [753, 'DISCHARGE FIREARMS/SHOTS FIRED'],\n",
       " [755, 'BOMB SCARE'],\n",
       " [756, 'WEAPONS POSSESSION/BOMBING'],\n",
       " [760, nan],\n",
       " [761, 'BRANDISH WEAPON'],\n",
       " [762, 'LEWD CONDUCT'],\n",
       " [763, 'STALKING'],\n",
       " [805, 'PIMPING'],\n",
       " [806, 'PANDERING'],\n",
       " [810, 'SEX, UNLAWFUL'],\n",
       " [812, 'CRM AGNST CHLD (13 OR UNDER) (14-15 & SUSP 10 YRS OLDER)0060'],\n",
       " [813, 'CHILD ANNOYING (17YRS & UNDER)'],\n",
       " [814, nan],\n",
       " [815, 'SEXUAL PENTRATION WITH A FOREIGN OBJECT'],\n",
       " [820, 'ORAL COPULATION'],\n",
       " [821, 'SODOMY/SEXUAL CONTACT B/W PENIS OF ONE PERS TO ANUS OTH 0007=02'],\n",
       " [822, nan],\n",
       " [830, 'INCEST (SEXUAL ACTS BETWEEN BLOOD RELATIVES)'],\n",
       " [840, 'BEASTIALITY, CRIME AGAINST NATURE SEXUAL ASSLT WITH ANIM0065'],\n",
       " [850, 'INDECENT EXPOSURE'],\n",
       " [860, 'BATTERY WITH SEXUAL CONTACT'],\n",
       " [865, 'DRUGS, TO A MINOR'],\n",
       " [870, 'CHILD ABANDONMENT'],\n",
       " [880, 'DISRUPT SCHOOL'],\n",
       " [882, 'INCITING A RIOT'],\n",
       " [884, 'FAILURE TO DISPERSE'],\n",
       " [886, 'DISTURBING THE PEACE'],\n",
       " [888, 'TRESPASSING'],\n",
       " [890, 'FAILURE TO YIELD'],\n",
       " [900, 'VIOLATION OF COURT ORDER'],\n",
       " [901, 'VIOLATION OF RESTRAINING ORDER'],\n",
       " [902, 'VIOLATION OF TEMPORARY RESTRAINING ORDER'],\n",
       " [903, 'CONTEMPT OF COURT'],\n",
       " [910, 'KIDNAPPING'],\n",
       " [920, 'KIDNAPPING - GRAND ATTEMPT'],\n",
       " [921, nan],\n",
       " [922, 'CHILD STEALING'],\n",
       " [924, 'TELEPHONE PROPERTY - DAMAGE'],\n",
       " [926, 'TRAIN WRECKING'],\n",
       " [928, 'THREATENING PHONE CALLS/LETTERS'],\n",
       " [930, 'CRIMINAL THREATS - NO WEAPON DISPLAYED'],\n",
       " [931, 'REPLICA FIREARMS(SALE,DISPLAY,MANUFACTURE OR DISTRIBUTE)0132'],\n",
       " [932, 'PEEPING TOM'],\n",
       " [933, 'PROWLER'],\n",
       " [940, 'EXTORTION'],\n",
       " [942, 'BRIBERY'],\n",
       " [943, 'CRUELTY TO ANIMALS'],\n",
       " [944, 'CONSPIRACY'],\n",
       " [946, 'OTHER MISCELLANEOUS CRIME'],\n",
       " [948, 'BIGAMY'],\n",
       " [949, 'ILLEGAL DUMPING'],\n",
       " [950, 'DEFRAUDING INNKEEPER/THEFT OF SERVICES, OVER $400'],\n",
       " [951, 'DEFRAUDING INNKEEPER/THEFT OF SERVICES, $400 & UNDER'],\n",
       " [952, 'ABORTION/ILLEGAL'],\n",
       " [954, 'CONTRIBUTING'],\n",
       " [956, 'LETTERS, LEWD']]"
      ]
     },
     "execution_count": 31,
     "metadata": {},
     "output_type": "execute_result"
    }
   ],
   "source": [
    "sorted(crime_list)"
   ]
  },
  {
   "cell_type": "code",
   "execution_count": 32,
   "metadata": {},
   "outputs": [
    {
     "data": {
      "text/plain": [
       "138"
      ]
     },
     "execution_count": 32,
     "metadata": {},
     "output_type": "execute_result"
    }
   ],
   "source": [
    "len(crime_list)"
   ]
  },
  {
   "cell_type": "code",
   "execution_count": 33,
   "metadata": {},
   "outputs": [],
   "source": [
    "# Saves the crime codes to a csv, only needs to be run once.\n",
    "#pd.DataFrame(crime_list, columns=['Crime Code', 'Crime Description']).to_csv('data/crime_codes.csv')"
   ]
  },
  {
   "cell_type": "markdown",
   "metadata": {},
   "source": [
    "### 1.1.9 Premise Code"
   ]
  },
  {
   "cell_type": "code",
   "execution_count": 34,
   "metadata": {},
   "outputs": [],
   "source": [
    "premise_list = make_list(data, 'Premise Code', 'Premise Description')"
   ]
  },
  {
   "cell_type": "code",
   "execution_count": 35,
   "metadata": {},
   "outputs": [
    {
     "data": {
      "text/plain": [
       "[[101.0, 'STREET'],\n",
       " [102.0, 'SIDEWALK'],\n",
       " [103.0, 'ALLEY'],\n",
       " [104.0, 'DRIVEWAY'],\n",
       " [105.0, 'PEDESTRIAN OVERCROSSING'],\n",
       " [106.0, 'TUNNEL'],\n",
       " [107.0, 'VACANT LOT'],\n",
       " [108.0, 'PARKING LOT'],\n",
       " [109.0, 'PARK/PLAYGROUND'],\n",
       " [110.0, 'FREEWAY'],\n",
       " [111.0, 'CHARTER BUS AND PRIVATELY OWNED BUS'],\n",
       " [112.0, 'BUS, SCHOOL, CHURCH'],\n",
       " [113.0, 'TRUCK, COMMERICAL'],\n",
       " [114.0, 'TAXI'],\n",
       " [115.0, 'AIRCRAFT'],\n",
       " [116.0, 'OTHER/OUTSIDE'],\n",
       " [117.0, 'BEACH'],\n",
       " [118.0, 'CONSTRUCTION SITE'],\n",
       " [119.0, 'PORCH, RESIDENTIAL'],\n",
       " [120.0, 'STORAGE SHED'],\n",
       " [121.0, 'YARD (RESIDENTIAL/BUSINESS)'],\n",
       " [122.0, 'VEHICLE, PASSENGER/TRUCK'],\n",
       " [123.0, 'PARKING UNDERGROUND/BUILDING'],\n",
       " [124.0, 'BUS STOP'],\n",
       " [125.0, 'PAY PHONE'],\n",
       " [126.0, 'TRAIN'],\n",
       " [127.0, 'TRASH CAN/TRASH DUMPSTER'],\n",
       " [128.0, 'BUS STOP OR LAYOVER'],\n",
       " [129.0, 'TERMINAL'],\n",
       " [130.0, 'REDLINE ENTRANCE/EXIT'],\n",
       " [131.0, 'REDLINE SUBWAY PLATFORM'],\n",
       " [132.0, 'REDLINE SUBWAY MEZZANINE'],\n",
       " [133.0, 'REDLINE SUBWAY RAIL CAR (INSIDE TRAIN)'],\n",
       " [134.0, 'REDLINE SUBWAY TUNNEL'],\n",
       " [135.0, 'MTA PROPERTY OR PARKING LOT'],\n",
       " [136.0, 'OTHER INTERSTATE, CHARTER BUS'],\n",
       " [137.0, 'TRAM/STREETCAR(BOXLIKE WAG ON RAILS)*'],\n",
       " [138.0, 'STAIRWELL*'],\n",
       " [139.0, 'AMUSEMENT PARK*'],\n",
       " [140.0, 'BALCONY*'],\n",
       " [141.0, 'CEMETARY*'],\n",
       " [142.0, 'DRIVE THRU*'],\n",
       " [143.0, 'ESCALATOR*'],\n",
       " [144.0, 'GOLF COURSE*'],\n",
       " [145.0, 'MAIL BOX'],\n",
       " [146.0, 'PATIO*'],\n",
       " [147.0, 'POOL-PUBLIC/OUTDOOR OR INDOOR*'],\n",
       " [148.0, 'PUBLIC RESTROOM/OUTSIDE*'],\n",
       " [149.0, 'RIVER BED*'],\n",
       " [150.0, 'TOOL SHED*'],\n",
       " [151.0, 'TOW YARD*'],\n",
       " [152.0, 'UNDERPASS/BRIDGE*'],\n",
       " [153.0, 'ORANGE LINE PARKING LOT'],\n",
       " [154.0, 'TRAIN TRACKS'],\n",
       " [155.0, 'DAM/RESERVOIR'],\n",
       " [156.0, 'VALET'],\n",
       " [157.0, nan],\n",
       " [158.0, nan],\n",
       " [201.0, 'JEWELRY STORE'],\n",
       " [202.0, 'LIQUOR STORE'],\n",
       " [203.0, 'OTHER BUSINESS'],\n",
       " [204.0, 'MANUFACTURING COMPANY'],\n",
       " [205.0, 'GUN/SPORTING GOODS'],\n",
       " [206.0, 'TV/RADIO/APPLIANCE'],\n",
       " [207.0, 'BAR/COCKTAIL/NIGHTCLUB'],\n",
       " [208.0, 'AUTO SALES LOT'],\n",
       " [209.0, 'EQUIPMENT RENTAL'],\n",
       " [210.0, 'RESTAURANT/FAST FOOD'],\n",
       " [211.0, 'PAWN SHOP'],\n",
       " [212.0, 'TRANSPORTATION FACILITY (AIRPORT)'],\n",
       " [213.0, 'WAREHOUSE'],\n",
       " [214.0, 'BUS DEPOT'],\n",
       " [215.0, 'TRAIN DEPOT'],\n",
       " [216.0, 'SWAP MEET'],\n",
       " [217.0, 'AUTO REPAIR SHOP'],\n",
       " [218.0, 'BEAUTY/BARBER SHOP'],\n",
       " [219.0, 'CLEANER/LAUNDROMAT'],\n",
       " [220.0, 'NAIL SALON'],\n",
       " [221.0, 'PUBLIC STORAGE'],\n",
       " [222.0, 'LAUNDROMAT'],\n",
       " [223.0, 'VIDEO RENTAL STORE'],\n",
       " [224.0, 'SURPLUS SURVIVAL STORE'],\n",
       " [225.0, 'RECORD-CD MUSIC/COMPUTER GAME STORE'],\n",
       " [226.0, 'RETIRED (DUPLICATE) DO NOT USE THIS CODE'],\n",
       " [227.0, 'ABORTION CLINIC/ABORTION FACILITY*'],\n",
       " [228.0, 'BOWLING ALLEY*'],\n",
       " [229.0, 'CHECK CASHING*'],\n",
       " [230.0, 'DAY CARE/ADULTS*'],\n",
       " [231.0, 'DAY CARE/CHILDREN*'],\n",
       " [232.0, 'DELIVERY SERVICE (FED EX, UPS, COURIERS,COURIER SERVICE)*'],\n",
       " [233.0, 'TATTOO PARLOR*'],\n",
       " [234.0, 'OPTICAL OFFICE INSIDE STORE OR SUPERMARKET*'],\n",
       " [235.0, 'PHARMACY INSIDE STORE OR SUPERMARKET*'],\n",
       " [236.0, 'VISION CARE FACILITY*'],\n",
       " [237.0, 'HOSPICE'],\n",
       " [238.0, 'TELECOMMUNICATION FACILITY/LOCATION'],\n",
       " [239.0, 'MEDICAL MARIJUANA FACILITIES/BUSINESSES'],\n",
       " [240.0, 'DEPT OF DEFENSE FACILITY'],\n",
       " [241.0, 'ENERGY PLANT/FACILITY'],\n",
       " [242.0, 'DISCOUNT STORE (99 CENT,DOLLAR,ETC.'],\n",
       " [243.0, \"DIY CENTER (LOWE'S,HOME DEPOT,OSH,CONTRACTORS WAREHOUSE)\"],\n",
       " [244.0, 'TOBACCO SHOP'],\n",
       " [245.0, 'CATERING/ICE CREAM TRUCK'],\n",
       " [246.0, 'METHADONE CLINIC'],\n",
       " [247.0, 'CAR WASH'],\n",
       " [248.0, 'CELL PHONE STORE'],\n",
       " [249.0, 'NURSERY/FLOWER SHOP'],\n",
       " [250.0, 'COMPUTER SERVICES/REPAIRS/SALES'],\n",
       " [251.0, 'RECYCLING CENTER'],\n",
       " [252.0, \"COFFEE SHOP (STARBUCKS, COFFEE BEAN, PEET'S, ETC.)\"],\n",
       " [253.0, 'MORTUARY'],\n",
       " [254.0, nan],\n",
       " [255.0, nan],\n",
       " [301.0, 'GAS STATION'],\n",
       " [302.0, 'FACTORY'],\n",
       " [303.0, 'OIL REFINERY'],\n",
       " [304.0, 'GARMENT MANUFACTURER'],\n",
       " [305.0, 'CHEMICAL STORAGE/MANUFACTURING PLANT'],\n",
       " [401.0, 'MINI-MART'],\n",
       " [402.0, 'MARKET'],\n",
       " [403.0, 'DRUG STORE'],\n",
       " [404.0, 'DEPARTMENT STORE'],\n",
       " [405.0, 'CLOTHING STORE'],\n",
       " [406.0, 'OTHER STORE'],\n",
       " [407.0, 'HARDWARE/BUILDING SUPPLY'],\n",
       " [408.0, 'AUTO SUPPLY STORE*'],\n",
       " [409.0, 'BEAUTY SUPPLY STORE'],\n",
       " [410.0, 'MEMBERSHIP STORE (COSTCO,SAMS CLUB)*'],\n",
       " [411.0, 'PET STORE'],\n",
       " [412.0, nan],\n",
       " [413.0, nan],\n",
       " [414.0, nan],\n",
       " [416.0, nan],\n",
       " [501.0, 'SINGLE FAMILY DWELLING'],\n",
       " [502.0, 'MULTI-UNIT DWELLING (APARTMENT, DUPLEX, ETC)'],\n",
       " [503.0, 'HOTEL'],\n",
       " [504.0, 'OTHER RESIDENCE'],\n",
       " [505.0, 'MOTEL'],\n",
       " [506.0, 'ABANDONED BUILDING ABANDONED HOUSE'],\n",
       " [507.0, 'CONDOMINIUM/TOWNHOUSE'],\n",
       " [508.0, 'FRAT HOUSE/SORORITY/DORMITORY'],\n",
       " [509.0, \"MOBILE HOME/TRAILERS/CONSTRUCTION TRAILERS/RV'S/MOTORHOME\"],\n",
       " [510.0, 'NURSING/CONVALESCENT/RETIREMENT HOME'],\n",
       " [511.0, 'PROJECT/TENEMENT/PUBLIC HOUSING'],\n",
       " [512.0, 'FOSTER HOME BOYS OR GIRLS*'],\n",
       " [513.0, 'ABATEMENT LOCATION'],\n",
       " [514.0, 'GROUP HOME'],\n",
       " [515.0, nan],\n",
       " [516.0, nan],\n",
       " [517.0, nan],\n",
       " [518.0, nan],\n",
       " [519.0, nan],\n",
       " [601.0, 'SAVINGS & LOAN'],\n",
       " [602.0, 'BANK'],\n",
       " [603.0, 'CREDIT UNION'],\n",
       " [604.0, 'FINANCE COMPANY'],\n",
       " [605.0, 'AUTOMATED TELLER MACHINE (ATM)'],\n",
       " [606.0, 'DRIVE THRU BANKING (WINDOW)*'],\n",
       " [607.0, 'BANKING INSIDE MARKET-STORE *'],\n",
       " [608.0, 'BANK DROP BOX/MONEY DROP-OUTSIDE OF BANK*'],\n",
       " [701.0, 'HOSPITAL'],\n",
       " [702.0, 'OFFICE BUILDING/OFFICE'],\n",
       " [703.0, 'ENTERTAINMENT/COMEDY CLUB (OTHER)'],\n",
       " [704.0, 'ELEMENTARY SCHOOL'],\n",
       " [705.0, 'SLIPS/DOCK/MARINA/BOAT'],\n",
       " [706.0, 'SEX ORIENTED/BOOK STORE'],\n",
       " [707.0, 'GARAGE/CARPORT'],\n",
       " [708.0, 'CHURCH/CHAPEL (CHANGED 03-03 FROM CHURCH/TEMPLE)'],\n",
       " [709.0, 'PUBLIC RESTROOM(INDOORS-INSIDE)'],\n",
       " [710.0, 'OTHER PREMISE'],\n",
       " [711.0, 'ARCADE,GAME ROOM/VIDEO GAMES (EXAMPLE CHUCKIE CHEESE)*'],\n",
       " [712.0, 'COLISEUM'],\n",
       " [713.0, 'CONVENTION CENTER'],\n",
       " [714.0, 'DODGER STADIUM'],\n",
       " [715.0, 'HORSE RACING/SANTA ANITA PARK*'],\n",
       " [716.0, 'THEATRE/MOVIE'],\n",
       " [717.0, 'HEALTH SPA/GYM'],\n",
       " [718.0, 'MASSAGE PARLOR'],\n",
       " [719.0, 'MEDICAL/DENTAL OFFICES'],\n",
       " [720.0, 'JUNIOR HIGH SCHOOL'],\n",
       " [721.0, 'HIGH SCHOOL'],\n",
       " [722.0, 'COLLEGE/JUNIOR COLLEGE/UNIVERSITY'],\n",
       " [723.0, 'PRIVATE SCHOOL/PRESCHOOL'],\n",
       " [724.0, 'TRADE SCHOOL (MEDICAL-TECHNICAL-BUSINESS)*'],\n",
       " [725.0, 'GOVERNMENT FACILITY (FEDERAL,STATE, COUNTY & CITY)'],\n",
       " [726.0, 'POLICE FACILITY'],\n",
       " [727.0, 'SHOPPING MALL (COMMON AREA)'],\n",
       " [728.0, 'ELEVATOR'],\n",
       " [729.0, 'SPECIALTY SCHOOL/OTHER'],\n",
       " [730.0, 'SYNAGOGUE/TEMPLE'],\n",
       " [731.0, 'MOSQUE*'],\n",
       " [732.0, 'POST OFFICE'],\n",
       " [733.0, 'BAR/SPORTS BAR (OPEN DAY & NIGHT)'],\n",
       " [734.0, 'HOCKEY RINK/ICE HOCKEY'],\n",
       " [735.0, 'NIGHT CLUB (OPEN EVENINGS ONLY)'],\n",
       " [736.0, 'SKATEBOARD FACILITY/SKATEBOARD PARK*'],\n",
       " [737.0, 'SKATING RINK*'],\n",
       " [738.0, 'LIBRARY'],\n",
       " [739.0, 'SPORTS ARENA'],\n",
       " [740.0, 'OTHER PLACE OF WORSHIP'],\n",
       " [741.0, 'STAPLES CENTER *'],\n",
       " [742.0, 'SPORTS VENUE, OTHER'],\n",
       " [743.0, 'MASS GATHERING LOCATION'],\n",
       " [744.0, 'HIGH-RISE BUILDING'],\n",
       " [745.0, 'WATER FACILITY'],\n",
       " [746.0, 'SEWAGE FACILITY/PIPE'],\n",
       " [747.0, 'NUCLEAR FACILITY'],\n",
       " [748.0, 'CULTURAL SIGNIFICANCE/MONUMENT'],\n",
       " [749.0, 'TACTICAL SIGNIFICANCE'],\n",
       " [750.0, 'CYBERSPACE'],\n",
       " [751.0, 'WEBSITE'],\n",
       " [752.0, 'FIRE STATION'],\n",
       " [753.0, 'DETENTION/JAIL FACILITY'],\n",
       " [754.0, 'MUSEUM'],\n",
       " [755.0, nan],\n",
       " [757.0, nan],\n",
       " [801.0, 'MTA BUS'],\n",
       " [802.0, 'MUNICIPAL BUS LINE INCLUDES LADOT/DASH'],\n",
       " [803.0, 'RETIRED (DUPLICATE) DO NOT USE THIS CODE'],\n",
       " [804.0, 'GREYHOUND OR INTERSTATE BUS'],\n",
       " [805.0, 'RETIRED (DUPLICATE) DO NOT USE THIS CODE'],\n",
       " [806.0, 'REDLINE (SUBWAY TRAIN)'],\n",
       " [807.0, 'BLUE LINE (ABOVE GROUND SURFACE TRAIN)'],\n",
       " [808.0, 'GREEN LINE (I-105 FWY LEVEL TRAIN)'],\n",
       " [809.0, 'METROLINK TRAIN'],\n",
       " [810.0, 'AMTRAK TRAIN'],\n",
       " [811.0, 'OTHER RR TRAIN (UNION PAC, SANTE FE ETC'],\n",
       " [834.0, nan],\n",
       " [835.0, nan],\n",
       " [836.0, nan],\n",
       " [838.0, nan],\n",
       " [868.0, nan],\n",
       " [869.0, nan],\n",
       " [871.0, nan],\n",
       " [872.0, nan],\n",
       " [874.0, nan],\n",
       " [875.0, nan],\n",
       " [876.0, nan],\n",
       " [880.0, nan],\n",
       " [885.0, nan],\n",
       " [893.0, nan],\n",
       " [894.0, nan],\n",
       " [897.0, nan],\n",
       " [900.0, nan],\n",
       " [901.0, nan],\n",
       " [902.0, nan],\n",
       " [903.0, nan],\n",
       " [904.0, nan],\n",
       " [905.0, nan],\n",
       " [906.0, nan],\n",
       " [907.0, nan],\n",
       " [908.0, nan],\n",
       " [909.0, nan],\n",
       " [910.0, nan],\n",
       " [911.0, nan],\n",
       " [912.0, nan],\n",
       " [913.0, nan],\n",
       " [915.0, nan],\n",
       " [916.0, nan],\n",
       " [917.0, nan],\n",
       " [918.0, nan],\n",
       " [919.0, nan],\n",
       " [920.0, nan],\n",
       " [921.0, nan],\n",
       " [922.0, nan],\n",
       " [931.0, nan],\n",
       " [932.0, nan],\n",
       " [934.0, nan],\n",
       " [935.0, nan],\n",
       " [936.0, nan],\n",
       " [937.0, nan],\n",
       " [940.0, nan],\n",
       " [941.0, nan],\n",
       " [942.0, nan],\n",
       " [943.0, nan],\n",
       " [944.0, nan],\n",
       " [945.0, nan],\n",
       " [946.0, nan],\n",
       " [947.0, nan],\n",
       " [949.0, nan],\n",
       " [950.0, nan],\n",
       " [951.0, nan],\n",
       " [952.0, nan],\n",
       " [953.0, nan],\n",
       " [956.0, nan],\n",
       " [957.0, nan],\n",
       " [958.0, nan],\n",
       " [961.0, nan],\n",
       " [963.0, nan],\n",
       " [964.0, nan],\n",
       " [966.0, nan],\n",
       " [967.0, nan],\n",
       " [968.0, nan],\n",
       " [969.0, nan],\n",
       " [971.0, nan]]"
      ]
     },
     "execution_count": 35,
     "metadata": {},
     "output_type": "execute_result"
    }
   ],
   "source": [
    "sorted(premise_list)"
   ]
  },
  {
   "cell_type": "code",
   "execution_count": 36,
   "metadata": {},
   "outputs": [],
   "source": [
    "# Saves the premise codes to a csv, only needs to be run once.\n",
    "#pd.DataFrame(premise_list, columns=['Premise Code', 'Premise Description']).to_csv('data/premise_codes.csv')"
   ]
  },
  {
   "cell_type": "markdown",
   "metadata": {},
   "source": [
    "### 1.1.10 Area ID"
   ]
  },
  {
   "cell_type": "code",
   "execution_count": 41,
   "metadata": {},
   "outputs": [],
   "source": [
    "area_list = make_list(data, 'Area ID', 'Area Name')"
   ]
  },
  {
   "cell_type": "code",
   "execution_count": 38,
   "metadata": {},
   "outputs": [
    {
     "data": {
      "text/plain": [
       "[[1, 'Central'],\n",
       " [2, 'Rampart'],\n",
       " [3, 'Southwest'],\n",
       " [4, 'Hollenbeck'],\n",
       " [5, 'Harbor'],\n",
       " [6, 'Hollywood'],\n",
       " [7, 'Wilshire'],\n",
       " [8, 'West LA'],\n",
       " [9, 'Van Nuys'],\n",
       " [10, 'West Valley'],\n",
       " [11, 'Northeast'],\n",
       " [12, '77th Street'],\n",
       " [13, 'Newton'],\n",
       " [14, 'Pacific'],\n",
       " [15, 'N Hollywood'],\n",
       " [16, 'Foothill'],\n",
       " [17, 'Devonshire'],\n",
       " [18, 'Southeast'],\n",
       " [19, 'Mission'],\n",
       " [20, 'Olympic'],\n",
       " [21, 'Topanga']]"
      ]
     },
     "execution_count": 38,
     "metadata": {},
     "output_type": "execute_result"
    }
   ],
   "source": [
    "sorted(area_list)"
   ]
  },
  {
   "cell_type": "code",
   "execution_count": 46,
   "metadata": {},
   "outputs": [
    {
     "data": {
      "image/png": "[encoded data removed]",
      "text/plain": [
       "<Figure size 432x288 with 1 Axes>"
      ]
     },
     "metadata": {
      "needs_background": "light"
     },
     "output_type": "display_data"
    }
   ],
   "source": [
    "for i in area_list:\n",
    "    area = data.loc[data['Area ID'] == i[0], ['Longitude', 'Latitude']]\n",
    "    plt.scatter(area['Longitude'], area['Latitude'], label=i[1])\n",
    "\n",
    "plt.legend()\n",
    "plt.x_label('Longitude')\n",
    "plt.y_label('Latitude')\n",
    "plt.show()\n",
    "\n",
    "del area"
   ]
  },
  {
   "cell_type": "code",
   "execution_count": 39,
   "metadata": {},
   "outputs": [],
   "source": [
    "# Saves the area codes to a csv, only needs to be run once.\n",
    "#pd.DataFrame(area_list, columns=['Area ID', 'Area Name']).to_csv('data/area_codes.csv')"
   ]
  },
  {
   "cell_type": "markdown",
   "metadata": {},
   "source": [
    "## 1.3 Compute Correlation Matrix\n",
    "Select features with high correlation."
   ]
  },
  {
   "cell_type": "code",
   "execution_count": 40,
   "metadata": {},
   "outputs": [
    {
     "name": "stdout",
     "output_type": "stream",
     "text": [
      "Medium Correlation (0.3 <= |x| < 0.6)\n"
     ]
    },
    {
     "data": {
      "text/html": [
       "<div>\n",
       "<style scoped>\n",
       "    .dataframe tbody tr th:only-of-type {\n",
       "        vertical-align: middle;\n",
       "    }\n",
       "\n",
       "    .dataframe tbody tr th {\n",
       "        vertical-align: top;\n",
       "    }\n",
       "\n",
       "    .dataframe thead th {\n",
       "        text-align: right;\n",
       "    }\n",
       "</style>\n",
       "<table border=\"1\" class=\"dataframe\">\n",
       "  <thead>\n",
       "    <tr style=\"text-align: right;\">\n",
       "      <th></th>\n",
       "      <th></th>\n",
       "      <th>Correlation</th>\n",
       "    </tr>\n",
       "  </thead>\n",
       "  <tbody>\n",
       "    <tr>\n",
       "      <th>Latitude</th>\n",
       "      <th>Longitude</th>\n",
       "      <td>-0.589918</td>\n",
       "    </tr>\n",
       "    <tr>\n",
       "      <th>Reporting District</th>\n",
       "      <th>Latitude</th>\n",
       "      <td>-0.453676</td>\n",
       "    </tr>\n",
       "    <tr>\n",
       "      <th>Latitude</th>\n",
       "      <th>Area ID</th>\n",
       "      <td>-0.452709</td>\n",
       "    </tr>\n",
       "    <tr>\n",
       "      <th>Reporting District</th>\n",
       "      <th>Longitude</th>\n",
       "      <td>0.374877</td>\n",
       "    </tr>\n",
       "    <tr>\n",
       "      <th>Area ID</th>\n",
       "      <th>Longitude</th>\n",
       "      <td>0.377786</td>\n",
       "    </tr>\n",
       "    <tr>\n",
       "      <th>Crime Code</th>\n",
       "      <th>Weapon Used Code</th>\n",
       "      <td>0.432260</td>\n",
       "    </tr>\n",
       "    <tr>\n",
       "      <th>Crime Code 1</th>\n",
       "      <th>Weapon Used Code</th>\n",
       "      <td>0.432594</td>\n",
       "    </tr>\n",
       "    <tr>\n",
       "      <th>Crime Code 4</th>\n",
       "      <th>Crime Code 3</th>\n",
       "      <td>0.506226</td>\n",
       "    </tr>\n",
       "  </tbody>\n",
       "</table>\n",
       "</div>"
      ],
      "text/plain": [
       "                                     Correlation\n",
       "Latitude           Longitude           -0.589918\n",
       "Reporting District Latitude            -0.453676\n",
       "Latitude           Area ID             -0.452709\n",
       "Reporting District Longitude            0.374877\n",
       "Area ID            Longitude            0.377786\n",
       "Crime Code         Weapon Used Code     0.432260\n",
       "Crime Code 1       Weapon Used Code     0.432594\n",
       "Crime Code 4       Crime Code 3         0.506226"
      ]
     },
     "metadata": {},
     "output_type": "display_data"
    },
    {
     "name": "stdout",
     "output_type": "stream",
     "text": [
      "\n",
      "High Correlation (0.6 <= |x| < 1)\n"
     ]
    },
    {
     "data": {
      "text/html": [
       "<div>\n",
       "<style scoped>\n",
       "    .dataframe tbody tr th:only-of-type {\n",
       "        vertical-align: middle;\n",
       "    }\n",
       "\n",
       "    .dataframe tbody tr th {\n",
       "        vertical-align: top;\n",
       "    }\n",
       "\n",
       "    .dataframe thead th {\n",
       "        text-align: right;\n",
       "    }\n",
       "</style>\n",
       "<table border=\"1\" class=\"dataframe\">\n",
       "  <thead>\n",
       "    <tr style=\"text-align: right;\">\n",
       "      <th></th>\n",
       "      <th></th>\n",
       "      <th>Correlation</th>\n",
       "    </tr>\n",
       "  </thead>\n",
       "  <tbody>\n",
       "    <tr>\n",
       "      <th rowspan=\"2\" valign=\"top\">DR Number</th>\n",
       "      <th>Timestamp</th>\n",
       "      <td>0.983195</td>\n",
       "    </tr>\n",
       "    <tr>\n",
       "      <th>Year</th>\n",
       "      <td>0.990360</td>\n",
       "    </tr>\n",
       "    <tr>\n",
       "      <th>Timestamp</th>\n",
       "      <th>Year</th>\n",
       "      <td>0.992086</td>\n",
       "    </tr>\n",
       "    <tr>\n",
       "      <th>Area ID</th>\n",
       "      <th>Reporting District</th>\n",
       "      <td>0.998998</td>\n",
       "    </tr>\n",
       "    <tr>\n",
       "      <th>Crime Code 1</th>\n",
       "      <th>Crime Code</th>\n",
       "      <td>0.999638</td>\n",
       "    </tr>\n",
       "  </tbody>\n",
       "</table>\n",
       "</div>"
      ],
      "text/plain": [
       "                                 Correlation\n",
       "DR Number    Timestamp              0.983195\n",
       "             Year                   0.990360\n",
       "Timestamp    Year                   0.992086\n",
       "Area ID      Reporting District     0.998998\n",
       "Crime Code 1 Crime Code             0.999638"
      ]
     },
     "metadata": {},
     "output_type": "display_data"
    }
   ],
   "source": [
    "# Alternative to below solution\n",
    "'''corrDf = data.corr()\n",
    "\n",
    "corrGrp = {'low':[], 'medium':[], 'high':[]}\n",
    "rowCount = 0\n",
    "for i, j in corrDf.iterrows():\n",
    "    colCount = 0\n",
    "    for m, n in j.iteritems():\n",
    "        if rowCount >= colCount and n < 1:\n",
    "            #print(n)\n",
    "            if -0.33 < n < 0.33:\n",
    "                corrGrp['low'].append([i, m, n])\n",
    "            elif (0.33 <= n < 0.66) or (-0.66 < n <= -0.33):\n",
    "                corrGrp['medium'].append([i, m, n])\n",
    "            elif (0.66 <= n) or (n <= -0.66):\n",
    "                corrGrp['high'].append([i, m, n])\n",
    "        colCount += 1\n",
    "    rowCount += 1\n",
    "\n",
    "display(corrGrp['medium'])\n",
    "display(corrGrp['high'])'''\n",
    "\n",
    "\n",
    "corr = data.corr().unstack()\n",
    "corr.sort_values(inplace=True)\n",
    "corr = corr[corr < 1]\n",
    "low = corr[(corr < 0.3) & (corr > -0.3)]\n",
    "med = corr[((corr >= 0.3) & (corr < 0.6)) | ((corr <= -0.3) & (corr > -0.6))]\n",
    "high = corr[(corr >= 0.6) | (corr <= -0.6)]\n",
    "\n",
    "print('Medium Correlation (0.3 <= |x| < 0.6)')\n",
    "display(med.iloc[::2].to_frame(name='Correlation'))\n",
    "print('\\nHigh Correlation (0.6 <= |x| < 1)')\n",
    "display(high.iloc[::2].to_frame(name='Correlation'))"
   ]
  },
  {
   "cell_type": "code",
   "execution_count": 43,
   "metadata": {},
   "outputs": [
    {
     "data": {
      "text/plain": [
       "<matplotlib.axes._subplots.AxesSubplot at 0x1a1ec0df98>"
      ]
     },
     "execution_count": 43,
     "metadata": {},
     "output_type": "execute_result"
    },
    {
     "data": {
      "image/png": "[encoded data removed]",
      "text/plain": [
       "<Figure size 432x288 with 2 Axes>"
      ]
     },
     "metadata": {
      "needs_background": "light"
     },
     "output_type": "display_data"
    }
   ],
   "source": [
    "cor = data.corr() #Calculate the correlation of the above variables\n",
    "sns.heatmap(cor, square = True) #Plot the correlation as heat map"
   ]
  },
  {
   "cell_type": "code",
   "execution_count": 42,
   "metadata": {},
   "outputs": [
    {
     "data": {
      "text/html": [
       "<div>\n",
       "<style scoped>\n",
       "    .dataframe tbody tr th:only-of-type {\n",
       "        vertical-align: middle;\n",
       "    }\n",
       "\n",
       "    .dataframe tbody tr th {\n",
       "        vertical-align: top;\n",
       "    }\n",
       "\n",
       "    .dataframe thead th {\n",
       "        text-align: right;\n",
       "    }\n",
       "</style>\n",
       "<table border=\"1\" class=\"dataframe\">\n",
       "  <thead>\n",
       "    <tr style=\"text-align: right;\">\n",
       "      <th></th>\n",
       "      <th>DR Number</th>\n",
       "      <th>Time Occurred</th>\n",
       "      <th>Area ID</th>\n",
       "      <th>Reporting District</th>\n",
       "      <th>Crime Code</th>\n",
       "      <th>Victim Age</th>\n",
       "      <th>Premise Code</th>\n",
       "      <th>Weapon Used Code</th>\n",
       "      <th>Crime Code 1</th>\n",
       "      <th>Crime Code 2</th>\n",
       "      <th>Crime Code 3</th>\n",
       "      <th>Crime Code 4</th>\n",
       "      <th>Longitude</th>\n",
       "      <th>Latitude</th>\n",
       "      <th>Timestamp</th>\n",
       "      <th>Month</th>\n",
       "      <th>Day</th>\n",
       "      <th>Year</th>\n",
       "      <th>Weapon Used Bool</th>\n",
       "    </tr>\n",
       "  </thead>\n",
       "  <tbody>\n",
       "    <tr>\n",
       "      <th>count</th>\n",
       "      <td>1.584316e+06</td>\n",
       "      <td>1.584316e+06</td>\n",
       "      <td>1.584316e+06</td>\n",
       "      <td>1.584316e+06</td>\n",
       "      <td>1.584316e+06</td>\n",
       "      <td>1.455657e+06</td>\n",
       "      <td>1.584240e+06</td>\n",
       "      <td>524757.000000</td>\n",
       "      <td>1.584309e+06</td>\n",
       "      <td>99997.000000</td>\n",
       "      <td>2183.000000</td>\n",
       "      <td>69.000000</td>\n",
       "      <td>1.578825e+06</td>\n",
       "      <td>1.578825e+06</td>\n",
       "      <td>1.584316e+06</td>\n",
       "      <td>1.584316e+06</td>\n",
       "      <td>1.584316e+06</td>\n",
       "      <td>1.584316e+06</td>\n",
       "      <td>1.584316e+06</td>\n",
       "    </tr>\n",
       "    <tr>\n",
       "      <th>mean</th>\n",
       "      <td>1.358072e+08</td>\n",
       "      <td>1.363975e+03</td>\n",
       "      <td>1.115232e+01</td>\n",
       "      <td>1.161595e+03</td>\n",
       "      <td>5.069982e+02</td>\n",
       "      <td>3.593419e+01</td>\n",
       "      <td>3.124071e+02</td>\n",
       "      <td>370.568852</td>\n",
       "      <td>5.068795e+02</td>\n",
       "      <td>954.461614</td>\n",
       "      <td>970.715529</td>\n",
       "      <td>967.173913</td>\n",
       "      <td>3.407869e+01</td>\n",
       "      <td>-1.183598e+02</td>\n",
       "      <td>1.385571e+09</td>\n",
       "      <td>6.343421e+00</td>\n",
       "      <td>1.550367e+01</td>\n",
       "      <td>2.013423e+03</td>\n",
       "      <td>3.312199e-01</td>\n",
       "    </tr>\n",
       "    <tr>\n",
       "      <th>std</th>\n",
       "      <td>2.259098e+07</td>\n",
       "      <td>6.467544e+02</td>\n",
       "      <td>5.986703e+00</td>\n",
       "      <td>5.986644e+02</td>\n",
       "      <td>2.105490e+02</td>\n",
       "      <td>1.681156e+01</td>\n",
       "      <td>2.102334e+02</td>\n",
       "      <td>114.024156</td>\n",
       "      <td>2.104662e+02</td>\n",
       "      <td>123.611988</td>\n",
       "      <td>88.350046</td>\n",
       "      <td>97.571536</td>\n",
       "      <td>1.172572e-01</td>\n",
       "      <td>1.062719e-01</td>\n",
       "      <td>7.117419e+07</td>\n",
       "      <td>3.391193e+00</td>\n",
       "      <td>8.932718e+00</td>\n",
       "      <td>2.257959e+00</td>\n",
       "      <td>4.706521e-01</td>\n",
       "    </tr>\n",
       "    <tr>\n",
       "      <th>min</th>\n",
       "      <td>2.100000e+02</td>\n",
       "      <td>1.000000e+00</td>\n",
       "      <td>1.000000e+00</td>\n",
       "      <td>1.000000e+02</td>\n",
       "      <td>1.100000e+02</td>\n",
       "      <td>1.000000e+01</td>\n",
       "      <td>1.010000e+02</td>\n",
       "      <td>101.000000</td>\n",
       "      <td>1.100000e+02</td>\n",
       "      <td>121.000000</td>\n",
       "      <td>93.000000</td>\n",
       "      <td>421.000000</td>\n",
       "      <td>3.334270e+01</td>\n",
       "      <td>-1.188279e+02</td>\n",
       "      <td>1.262304e+09</td>\n",
       "      <td>1.000000e+00</td>\n",
       "      <td>1.000000e+00</td>\n",
       "      <td>2.010000e+03</td>\n",
       "      <td>0.000000e+00</td>\n",
       "    </tr>\n",
       "    <tr>\n",
       "      <th>25%</th>\n",
       "      <td>1.121176e+08</td>\n",
       "      <td>9.300000e+02</td>\n",
       "      <td>6.000000e+00</td>\n",
       "      <td>6.450000e+02</td>\n",
       "      <td>3.300000e+02</td>\n",
       "      <td>2.300000e+01</td>\n",
       "      <td>1.020000e+02</td>\n",
       "      <td>400.000000</td>\n",
       "      <td>3.300000e+02</td>\n",
       "      <td>998.000000</td>\n",
       "      <td>998.000000</td>\n",
       "      <td>998.000000</td>\n",
       "      <td>3.400970e+01</td>\n",
       "      <td>-1.184377e+02</td>\n",
       "      <td>1.323302e+09</td>\n",
       "      <td>3.000000e+00</td>\n",
       "      <td>8.000000e+00</td>\n",
       "      <td>2.011000e+03</td>\n",
       "      <td>0.000000e+00</td>\n",
       "    </tr>\n",
       "    <tr>\n",
       "      <th>50%</th>\n",
       "      <td>1.401095e+08</td>\n",
       "      <td>1.430000e+03</td>\n",
       "      <td>1.200000e+01</td>\n",
       "      <td>1.204000e+03</td>\n",
       "      <td>4.400000e+02</td>\n",
       "      <td>3.400000e+01</td>\n",
       "      <td>2.100000e+02</td>\n",
       "      <td>400.000000</td>\n",
       "      <td>4.400000e+02</td>\n",
       "      <td>998.000000</td>\n",
       "      <td>998.000000</td>\n",
       "      <td>998.000000</td>\n",
       "      <td>3.406320e+01</td>\n",
       "      <td>-1.183308e+02</td>\n",
       "      <td>1.386893e+09</td>\n",
       "      <td>6.000000e+00</td>\n",
       "      <td>1.500000e+01</td>\n",
       "      <td>2.013000e+03</td>\n",
       "      <td>0.000000e+00</td>\n",
       "    </tr>\n",
       "    <tr>\n",
       "      <th>75%</th>\n",
       "      <td>1.520186e+08</td>\n",
       "      <td>1.900000e+03</td>\n",
       "      <td>1.600000e+01</td>\n",
       "      <td>1.676000e+03</td>\n",
       "      <td>6.260000e+02</td>\n",
       "      <td>4.800000e+01</td>\n",
       "      <td>5.010000e+02</td>\n",
       "      <td>400.000000</td>\n",
       "      <td>6.260000e+02</td>\n",
       "      <td>998.000000</td>\n",
       "      <td>998.000000</td>\n",
       "      <td>998.000000</td>\n",
       "      <td>3.417810e+01</td>\n",
       "      <td>-1.182782e+02</td>\n",
       "      <td>1.448323e+09</td>\n",
       "      <td>9.000000e+00</td>\n",
       "      <td>2.300000e+01</td>\n",
       "      <td>2.015000e+03</td>\n",
       "      <td>1.000000e+00</td>\n",
       "    </tr>\n",
       "    <tr>\n",
       "      <th>max</th>\n",
       "      <td>9.102204e+08</td>\n",
       "      <td>2.359000e+03</td>\n",
       "      <td>2.100000e+01</td>\n",
       "      <td>2.198000e+03</td>\n",
       "      <td>9.560000e+02</td>\n",
       "      <td>9.900000e+01</td>\n",
       "      <td>9.710000e+02</td>\n",
       "      <td>516.000000</td>\n",
       "      <td>9.990000e+02</td>\n",
       "      <td>999.000000</td>\n",
       "      <td>999.000000</td>\n",
       "      <td>999.000000</td>\n",
       "      <td>3.479070e+01</td>\n",
       "      <td>-1.176596e+02</td>\n",
       "      <td>1.504915e+09</td>\n",
       "      <td>1.200000e+01</td>\n",
       "      <td>3.100000e+01</td>\n",
       "      <td>2.017000e+03</td>\n",
       "      <td>1.000000e+00</td>\n",
       "    </tr>\n",
       "  </tbody>\n",
       "</table>\n",
       "</div>"
      ],
      "text/plain": [
       "          DR Number  Time Occurred       Area ID  Reporting District  \\\n",
       "count  1.584316e+06   1.584316e+06  1.584316e+06        1.584316e+06   \n",
       "mean   1.358072e+08   1.363975e+03  1.115232e+01        1.161595e+03   \n",
       "std    2.259098e+07   6.467544e+02  5.986703e+00        5.986644e+02   \n",
       "min    2.100000e+02   1.000000e+00  1.000000e+00        1.000000e+02   \n",
       "25%    1.121176e+08   9.300000e+02  6.000000e+00        6.450000e+02   \n",
       "50%    1.401095e+08   1.430000e+03  1.200000e+01        1.204000e+03   \n",
       "75%    1.520186e+08   1.900000e+03  1.600000e+01        1.676000e+03   \n",
       "max    9.102204e+08   2.359000e+03  2.100000e+01        2.198000e+03   \n",
       "\n",
       "         Crime Code    Victim Age  Premise Code  Weapon Used Code  \\\n",
       "count  1.584316e+06  1.455657e+06  1.584240e+06     524757.000000   \n",
       "mean   5.069982e+02  3.593419e+01  3.124071e+02        370.568852   \n",
       "std    2.105490e+02  1.681156e+01  2.102334e+02        114.024156   \n",
       "min    1.100000e+02  1.000000e+01  1.010000e+02        101.000000   \n",
       "25%    3.300000e+02  2.300000e+01  1.020000e+02        400.000000   \n",
       "50%    4.400000e+02  3.400000e+01  2.100000e+02        400.000000   \n",
       "75%    6.260000e+02  4.800000e+01  5.010000e+02        400.000000   \n",
       "max    9.560000e+02  9.900000e+01  9.710000e+02        516.000000   \n",
       "\n",
       "       Crime Code 1  Crime Code 2  Crime Code 3  Crime Code 4     Longitude  \\\n",
       "count  1.584309e+06  99997.000000   2183.000000     69.000000  1.578825e+06   \n",
       "mean   5.068795e+02    954.461614    970.715529    967.173913  3.407869e+01   \n",
       "std    2.104662e+02    123.611988     88.350046     97.571536  1.172572e-01   \n",
       "min    1.100000e+02    121.000000     93.000000    421.000000  3.334270e+01   \n",
       "25%    3.300000e+02    998.000000    998.000000    998.000000  3.400970e+01   \n",
       "50%    4.400000e+02    998.000000    998.000000    998.000000  3.406320e+01   \n",
       "75%    6.260000e+02    998.000000    998.000000    998.000000  3.417810e+01   \n",
       "max    9.990000e+02    999.000000    999.000000    999.000000  3.479070e+01   \n",
       "\n",
       "           Latitude     Timestamp         Month           Day          Year  \\\n",
       "count  1.578825e+06  1.584316e+06  1.584316e+06  1.584316e+06  1.584316e+06   \n",
       "mean  -1.183598e+02  1.385571e+09  6.343421e+00  1.550367e+01  2.013423e+03   \n",
       "std    1.062719e-01  7.117419e+07  3.391193e+00  8.932718e+00  2.257959e+00   \n",
       "min   -1.188279e+02  1.262304e+09  1.000000e+00  1.000000e+00  2.010000e+03   \n",
       "25%   -1.184377e+02  1.323302e+09  3.000000e+00  8.000000e+00  2.011000e+03   \n",
       "50%   -1.183308e+02  1.386893e+09  6.000000e+00  1.500000e+01  2.013000e+03   \n",
       "75%   -1.182782e+02  1.448323e+09  9.000000e+00  2.300000e+01  2.015000e+03   \n",
       "max   -1.176596e+02  1.504915e+09  1.200000e+01  3.100000e+01  2.017000e+03   \n",
       "\n",
       "       Weapon Used Bool  \n",
       "count      1.584316e+06  \n",
       "mean       3.312199e-01  \n",
       "std        4.706521e-01  \n",
       "min        0.000000e+00  \n",
       "25%        0.000000e+00  \n",
       "50%        0.000000e+00  \n",
       "75%        1.000000e+00  \n",
       "max        1.000000e+00  "
      ]
     },
     "execution_count": 42,
     "metadata": {},
     "output_type": "execute_result"
    }
   ],
   "source": [
    "data.describe()"
   ]
  },
  {
   "cell_type": "code",
   "execution_count": 43,
   "metadata": {},
   "outputs": [],
   "source": [
    "# fill in null values with the mean of each column\n",
    "#data.fillna(data.mean(), inplace=True)"
   ]
  },
  {
   "cell_type": "code",
   "execution_count": 44,
   "metadata": {},
   "outputs": [],
   "source": [
    "# Sort and reset index\n",
    "#data.sort_values(by=['Timestamp', 'Time Occurred'], inplace=True)\n",
    "\n",
    "#data.reset_index(inplace=True, drop=True)"
   ]
  },
  {
   "cell_type": "code",
   "execution_count": 45,
   "metadata": {},
   "outputs": [
    {
     "data": {
      "text/plain": [
       "\"tempDf = data[['Date Occurred', 'Timestamp', 'Time Occurred',\\n       'Area ID', 'Reporting District', 'Crime Code', 'Victim Age', 'Victim Sex',\\n       'Victim Descent', 'Premise Code', 'Weapon Used Bool',\\n       'Weapon Used Code', 'Longitude', 'Latitude']]\\n\\n# Save to file\\ntempDf.to_csv('data/Crime_Data_2010_2017_clean2.csv', index=False)\\n\\ndel tempDf\""
      ]
     },
     "execution_count": 45,
     "metadata": {},
     "output_type": "execute_result"
    }
   ],
   "source": [
    "# Prepare data by removing descriptive columns and other unimportant columns.\n",
    "# Removed MO Codes because it contains a list of codes which makes it hard to analyze.\n",
    "# I don't see address and cross street being particularily useful.\n",
    "# Not sure what Crime Codes 1 - 4 are so we can remove them for now.\n",
    "# We will use the Date Occured instead of Date reported.\n",
    "# Removed status code, not sure what the codes mean and if it is usefull\n",
    "# Removed location and Date Occurred\n",
    "# Removed DR Number. Seems to just be the report number which is unimportant.\n",
    "'''tempDf = data[['Date Occurred', 'Timestamp', 'Time Occurred',\n",
    "       'Area ID', 'Reporting District', 'Crime Code', 'Victim Age', 'Victim Sex',\n",
    "       'Victim Descent', 'Premise Code', 'Weapon Used Bool',\n",
    "       'Weapon Used Code', 'Longitude', 'Latitude']]\n",
    "\n",
    "# Save to file\n",
    "tempDf.to_csv('data/Crime_Data_2010_2017_clean2.csv', index=False)\n",
    "\n",
    "del tempDf'''"
   ]
  },
  {
   "cell_type": "code",
   "execution_count": null,
   "metadata": {},
   "outputs": [],
   "source": []
  }
 ],
 "metadata": {
  "kernelspec": {
   "display_name": "Python 3",
   "language": "python",
   "name": "python3"
  },
  "language_info": {
   "codemirror_mode": {
    "name": "ipython",
    "version": 3
   },
   "file_extension": ".py",
   "mimetype": "text/x-python",
   "name": "python",
   "nbconvert_exporter": "python",
   "pygments_lexer": "ipython3",
   "version": "3.7.1"
  }
 },
 "nbformat": 4,
 "nbformat_minor": 2
}
