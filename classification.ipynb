{
 "cells": [
  {
   "cell_type": "code",
   "execution_count": 1,
   "metadata": {},
   "outputs": [],
   "source": [
    "import matplotlib.pyplot as plt\n",
    "import pandas as pd\n",
    "from sklearn.neighbors import KNeighborsClassifier\n",
    "from sklearn.metrics import classification_report, confusion_matrix\n",
    "from sklearn.model_selection import train_test_split\n",
    "from sklearn import datasets\n",
    "from sklearn import metrics \n",
    "import seaborn as sns \n",
    "import numpy as np\n",
    "import TransformScript as ts"
   ]
  },
  {
   "cell_type": "code",
   "execution_count": 2,
   "metadata": {},
   "outputs": [],
   "source": [
    "crimes = pd.DataFrame()\n",
    "crimes = ts.run(crimes, 'data/Crime_Data_2010_2017.csv')\n",
    "#print(crimes)"
   ]
  },
  {
   "cell_type": "code",
   "execution_count": 3,
   "metadata": {},
   "outputs": [],
   "source": [
    "crimes = crimes[:len(crimes)//100]"
   ]
  },
  {
   "cell_type": "code",
   "execution_count": 6,
   "metadata": {},
   "outputs": [
    {
     "name": "stdout",
     "output_type": "stream",
     "text": [
      "Crimes committed in the morning: 3303\n",
      "Crimes committed in the afternoon: 4113\n",
      "Crimes committed in the evening: 3639\n",
      "Crimes committed in the night: 4788\n"
     ]
    }
   ],
   "source": [
    "''''Morning: 5am - 11:59am         0500 - 1159\n",
    "    Afternoon: 12pm - 4:59pm       1200 - 1659\n",
    "    Evening: 5:00pm - 8:59pm       1700 - 2059 \n",
    "    Night: 9:00pm - 4:59am         2100 - 0459'''    \n",
    "\n",
    "crimesTime = crimes['Time Occurred']\n",
    "crimesTimeName = []\n",
    "mornCount = 0\n",
    "afterCount = 0\n",
    "evenCount = 0\n",
    "nightCount = 0\n",
    "#set each time to morning, afternoon, evening or night \n",
    "\n",
    "for i in crimesTime:\n",
    "    if i in range(500, 1159):\n",
    "        crimesTimeName.append(\"Morning\")\n",
    "        mornCount += 1\n",
    "    elif i in range(1200,1659):\n",
    "        crimesTimeName.append(\"Afternoon\")\n",
    "        afterCount += 1\n",
    "    elif i in range(1700, 2059):\n",
    "        crimesTimeName.append(\"Evening\")\n",
    "        evenCount += 1\n",
    "    elif i in range(2100, 2400) or i in range(0, 459):\n",
    "        crimesTimeName.append(\"Night\")\n",
    "        nightCount += 1\n",
    "    else:\n",
    "        crimesTimeName.append(\"NaN\")\n",
    "\n",
    "#crimes['Time of Day'] = crimesTimeName\n",
    "\n",
    "#print(len(crimes))\n",
    "#print((crimesTime))\n",
    "\n",
    "print('Crimes committed in the morning:',mornCount)\n",
    "print('Crimes committed in the afternoon:',afterCount)\n",
    "print('Crimes committed in the evening:',evenCount)\n",
    "print('Crimes committed in the night:',nightCount)"
   ]
  },
  {
   "cell_type": "code",
   "execution_count": 5,
   "metadata": {},
   "outputs": [
    {
     "data": {
      "image/png": "[encoded data removed]",
      "text/plain": [
       "<Figure size 432x288 with 1 Axes>"
      ]
     },
     "metadata": {
      "needs_background": "light"
     },
     "output_type": "display_data"
    }
   ],
   "source": [
    "sns.countplot(crimes['Time of Day'], label = 'count')\n",
    "plt.xlabel('Time of Day')\n",
    "plt.ylabel('Crime Count')\n",
    "plt.title(\"Time of Day Crimes Occurred\")\n",
    "plt.show()"
   ]
  },
  {
   "cell_type": "code",
   "execution_count": 8,
   "metadata": {},
   "outputs": [
    {
     "data": {
      "text/plain": [
       "Index(['Time Occurred', 'Longitude', 'Latitude', 'Timestamp',\n",
       "       'Area Name_Central', 'Area Name_Devonshire', 'Area Name_Foothill',\n",
       "       'Area Name_Harbor', 'Area Name_Hollenbeck', 'Area Name_Hollywood',\n",
       "       ...\n",
       "       'Crime Code 4_821.0', 'Crime Code 4_860.0', 'Crime Code 4_910.0',\n",
       "       'Crime Code 4_930.0', 'Crime Code 4_944.0', 'Crime Code 4_946.0',\n",
       "       'Crime Code 4_998.0', 'Crime Code 4_999.0', 'Crime Code 4_nan',\n",
       "       'Time of Day'],\n",
       "      dtype='object', length=2198)"
      ]
     },
     "execution_count": 8,
     "metadata": {},
     "output_type": "execute_result"
    }
   ],
   "source": [
    "crimes.columns"
   ]
  },
  {
   "cell_type": "code",
   "execution_count": 10,
   "metadata": {},
   "outputs": [
    {
     "data": {
      "text/html": [
       "<div>\n",
       "<style scoped>\n",
       "    .dataframe tbody tr th:only-of-type {\n",
       "        vertical-align: middle;\n",
       "    }\n",
       "\n",
       "    .dataframe tbody tr th {\n",
       "        vertical-align: top;\n",
       "    }\n",
       "\n",
       "    .dataframe thead th {\n",
       "        text-align: right;\n",
       "    }\n",
       "</style>\n",
       "<table border=\"1\" class=\"dataframe\">\n",
       "  <thead>\n",
       "    <tr style=\"text-align: right;\">\n",
       "      <th></th>\n",
       "      <th>Area Name_Central</th>\n",
       "      <th>Area Name_Devonshire</th>\n",
       "      <th>Area Name_Foothill</th>\n",
       "      <th>Area Name_Harbor</th>\n",
       "      <th>Area Name_Hollenbeck</th>\n",
       "      <th>Area Name_Hollywood</th>\n",
       "      <th>Area Name_Mission</th>\n",
       "      <th>Area Name_N Hollywood</th>\n",
       "      <th>Area Name_Newton</th>\n",
       "      <th>Area Name_Northeast</th>\n",
       "      <th>...</th>\n",
       "      <th>Crime Code 4_745.0</th>\n",
       "      <th>Crime Code 4_821.0</th>\n",
       "      <th>Crime Code 4_860.0</th>\n",
       "      <th>Crime Code 4_910.0</th>\n",
       "      <th>Crime Code 4_930.0</th>\n",
       "      <th>Crime Code 4_944.0</th>\n",
       "      <th>Crime Code 4_946.0</th>\n",
       "      <th>Crime Code 4_998.0</th>\n",
       "      <th>Crime Code 4_999.0</th>\n",
       "      <th>Crime Code 4_nan</th>\n",
       "    </tr>\n",
       "  </thead>\n",
       "  <tbody>\n",
       "    <tr>\n",
       "      <th>0</th>\n",
       "      <td>0</td>\n",
       "      <td>0</td>\n",
       "      <td>0</td>\n",
       "      <td>0</td>\n",
       "      <td>0</td>\n",
       "      <td>0</td>\n",
       "      <td>0</td>\n",
       "      <td>0</td>\n",
       "      <td>0</td>\n",
       "      <td>0</td>\n",
       "      <td>...</td>\n",
       "      <td>0</td>\n",
       "      <td>0</td>\n",
       "      <td>0</td>\n",
       "      <td>0</td>\n",
       "      <td>0</td>\n",
       "      <td>0</td>\n",
       "      <td>0</td>\n",
       "      <td>0</td>\n",
       "      <td>0</td>\n",
       "      <td>1</td>\n",
       "    </tr>\n",
       "    <tr>\n",
       "      <th>1</th>\n",
       "      <td>0</td>\n",
       "      <td>0</td>\n",
       "      <td>0</td>\n",
       "      <td>0</td>\n",
       "      <td>0</td>\n",
       "      <td>0</td>\n",
       "      <td>0</td>\n",
       "      <td>0</td>\n",
       "      <td>0</td>\n",
       "      <td>0</td>\n",
       "      <td>...</td>\n",
       "      <td>0</td>\n",
       "      <td>0</td>\n",
       "      <td>0</td>\n",
       "      <td>0</td>\n",
       "      <td>0</td>\n",
       "      <td>0</td>\n",
       "      <td>0</td>\n",
       "      <td>0</td>\n",
       "      <td>0</td>\n",
       "      <td>1</td>\n",
       "    </tr>\n",
       "    <tr>\n",
       "      <th>2</th>\n",
       "      <td>0</td>\n",
       "      <td>0</td>\n",
       "      <td>0</td>\n",
       "      <td>0</td>\n",
       "      <td>0</td>\n",
       "      <td>0</td>\n",
       "      <td>0</td>\n",
       "      <td>0</td>\n",
       "      <td>0</td>\n",
       "      <td>0</td>\n",
       "      <td>...</td>\n",
       "      <td>0</td>\n",
       "      <td>0</td>\n",
       "      <td>0</td>\n",
       "      <td>0</td>\n",
       "      <td>0</td>\n",
       "      <td>0</td>\n",
       "      <td>0</td>\n",
       "      <td>0</td>\n",
       "      <td>0</td>\n",
       "      <td>1</td>\n",
       "    </tr>\n",
       "    <tr>\n",
       "      <th>3</th>\n",
       "      <td>0</td>\n",
       "      <td>0</td>\n",
       "      <td>0</td>\n",
       "      <td>0</td>\n",
       "      <td>0</td>\n",
       "      <td>0</td>\n",
       "      <td>0</td>\n",
       "      <td>0</td>\n",
       "      <td>0</td>\n",
       "      <td>0</td>\n",
       "      <td>...</td>\n",
       "      <td>0</td>\n",
       "      <td>0</td>\n",
       "      <td>0</td>\n",
       "      <td>0</td>\n",
       "      <td>0</td>\n",
       "      <td>0</td>\n",
       "      <td>0</td>\n",
       "      <td>0</td>\n",
       "      <td>0</td>\n",
       "      <td>1</td>\n",
       "    </tr>\n",
       "    <tr>\n",
       "      <th>4</th>\n",
       "      <td>0</td>\n",
       "      <td>0</td>\n",
       "      <td>0</td>\n",
       "      <td>0</td>\n",
       "      <td>0</td>\n",
       "      <td>0</td>\n",
       "      <td>0</td>\n",
       "      <td>0</td>\n",
       "      <td>0</td>\n",
       "      <td>0</td>\n",
       "      <td>...</td>\n",
       "      <td>0</td>\n",
       "      <td>0</td>\n",
       "      <td>0</td>\n",
       "      <td>0</td>\n",
       "      <td>0</td>\n",
       "      <td>0</td>\n",
       "      <td>0</td>\n",
       "      <td>0</td>\n",
       "      <td>0</td>\n",
       "      <td>1</td>\n",
       "    </tr>\n",
       "  </tbody>\n",
       "</table>\n",
       "<p>5 rows × 2193 columns</p>\n",
       "</div>"
      ],
      "text/plain": [
       "   Area Name_Central  Area Name_Devonshire  Area Name_Foothill  \\\n",
       "0                  0                     0                   0   \n",
       "1                  0                     0                   0   \n",
       "2                  0                     0                   0   \n",
       "3                  0                     0                   0   \n",
       "4                  0                     0                   0   \n",
       "\n",
       "   Area Name_Harbor  Area Name_Hollenbeck  Area Name_Hollywood  \\\n",
       "0                 0                     0                    0   \n",
       "1                 0                     0                    0   \n",
       "2                 0                     0                    0   \n",
       "3                 0                     0                    0   \n",
       "4                 0                     0                    0   \n",
       "\n",
       "   Area Name_Mission  Area Name_N Hollywood  Area Name_Newton  \\\n",
       "0                  0                      0                 0   \n",
       "1                  0                      0                 0   \n",
       "2                  0                      0                 0   \n",
       "3                  0                      0                 0   \n",
       "4                  0                      0                 0   \n",
       "\n",
       "   Area Name_Northeast        ...         Crime Code 4_745.0  \\\n",
       "0                    0        ...                          0   \n",
       "1                    0        ...                          0   \n",
       "2                    0        ...                          0   \n",
       "3                    0        ...                          0   \n",
       "4                    0        ...                          0   \n",
       "\n",
       "   Crime Code 4_821.0  Crime Code 4_860.0  Crime Code 4_910.0  \\\n",
       "0                   0                   0                   0   \n",
       "1                   0                   0                   0   \n",
       "2                   0                   0                   0   \n",
       "3                   0                   0                   0   \n",
       "4                   0                   0                   0   \n",
       "\n",
       "   Crime Code 4_930.0  Crime Code 4_944.0  Crime Code 4_946.0  \\\n",
       "0                   0                   0                   0   \n",
       "1                   0                   0                   0   \n",
       "2                   0                   0                   0   \n",
       "3                   0                   0                   0   \n",
       "4                   0                   0                   0   \n",
       "\n",
       "   Crime Code 4_998.0  Crime Code 4_999.0  Crime Code 4_nan  \n",
       "0                   0                   0                 1  \n",
       "1                   0                   0                 1  \n",
       "2                   0                   0                 1  \n",
       "3                   0                   0                 1  \n",
       "4                   0                   0                 1  \n",
       "\n",
       "[5 rows x 2193 columns]"
      ]
     },
     "execution_count": 10,
     "metadata": {},
     "output_type": "execute_result"
    }
   ],
   "source": [
    "target = crimes.drop(columns = ['Time of Day','Time Occurred', 'Longitude', 'Latitude', 'Timestamp'])\n",
    "target.head()"
   ]
  },
  {
   "cell_type": "code",
   "execution_count": 23,
   "metadata": {},
   "outputs": [],
   "source": [
    "y = crimesTimeName\n",
    "#y = pd.get_dummies(data=crimesTimeName, prefix='Time of Day', drop_first=True , dummy_na=True)"
   ]
  },
  {
   "cell_type": "code",
   "execution_count": 33,
   "metadata": {},
   "outputs": [],
   "source": [
    "X_train, X_test, y_train, y_test = train_test_split(target, y, test_size = 0.2, random_state=0)"
   ]
  },
  {
   "cell_type": "code",
   "execution_count": 25,
   "metadata": {},
   "outputs": [],
   "source": [
    "#Import knearest neighbors Classifier model\n",
    "from sklearn.neighbors import KNeighborsClassifier\n",
    "\n",
    "#Create KNN Classifier with k = 5 neighbors\n",
    "knn = KNeighborsClassifier(n_neighbors=5)\n",
    "\n",
    "#Train the model using the training sets\n",
    "knn.fit(X_train, y_train)\n",
    "\n",
    "#Predict the response for test dataset\n",
    "y_pred = knn.predict(X_test)"
   ]
  },
  {
   "cell_type": "code",
   "execution_count": 26,
   "metadata": {},
   "outputs": [
    {
     "name": "stdout",
     "output_type": "stream",
     "text": [
      "Accuracy: 0.3199747554433575\n"
     ]
    }
   ],
   "source": [
    "print(\"Accuracy:\",metrics.accuracy_score(y_test, y_pred))"
   ]
  },
  {
   "cell_type": "code",
   "execution_count": 48,
   "metadata": {},
   "outputs": [
    {
     "name": "stdout",
     "output_type": "stream",
     "text": [
      "[[324 167 139 179]\n",
      " [188 186 102 235]\n",
      " [243 129 135 176]\n",
      " [224 211 102 429]]\n",
      "              precision    recall  f1-score   support\n",
      "\n",
      "   Afternoon       0.33      0.40      0.36       809\n",
      "     Evening       0.27      0.26      0.26       711\n",
      "     Morning       0.28      0.20      0.23       683\n",
      "       Night       0.42      0.44      0.43       966\n",
      "\n",
      "   micro avg       0.34      0.34      0.34      3169\n",
      "   macro avg       0.33      0.33      0.32      3169\n",
      "weighted avg       0.33      0.34      0.33      3169\n",
      "\n"
     ]
    }
   ],
   "source": [
    "# Import confusion matrix and classification report\n",
    "print(confusion_matrix(y_test, y_pred))\n",
    "print(classification_report(y_test, y_pred))"
   ]
  },
  {
   "cell_type": "code",
   "execution_count": 47,
   "metadata": {},
   "outputs": [
    {
     "name": "stdout",
     "output_type": "stream",
     "text": [
      "1 Accuracy: 0.3243925528557905\n",
      "2 Accuracy: 0.3026191227516567\n",
      "3 Accuracy: 0.3209214263174503\n",
      "4 Accuracy: 0.32660145156200693\n",
      "5 Accuracy: 0.3199747554433575\n",
      "6 Accuracy: 0.33796150205112024\n",
      "7 Accuracy: 0.33701483117702746\n",
      "8 Accuracy: 0.34427264121173873\n",
      "9 Accuracy: 0.33796150205112024\n",
      "10 Accuracy: 0.338908172925213\n"
     ]
    }
   ],
   "source": [
    "k = 0\n",
    "for k in range(1,11):\n",
    "    knn = KNeighborsClassifier(n_neighbors=k)\n",
    "    knn.fit(X_train, y_train)\n",
    "    y_pred = knn.predict(X_test)\n",
    "    print(k,\"Accuracy:\",metrics.accuracy_score(y_test, y_pred))"
   ]
  },
  {
   "cell_type": "markdown",
   "metadata": {},
   "source": [
    "References:\n",
    "https://towardsdatascience.com/building-a-k-nearest-neighbors-k-nn-model-with-scikit-learn-51209555453a"
   ]
  },
  {
   "cell_type": "code",
   "execution_count": 41,
   "metadata": {},
   "outputs": [],
   "source": [
    "crimes2 = pd.read_csv('data/Crime_Data_2010_2017.csv')\n",
    "crimes2 = crimes2[:len(crimes2)//100]\n",
    "weapons = crimes2['Weapon Used Code']\n",
    "\n",
    "nonViolentCount = 0\n",
    "violent = []\n",
    "violentCount = 0\n",
    "\n",
    "for i in weapons:\n",
    "    if i in range(100, 1000):\n",
    "        violentCount += 1\n",
    "        violent.append(\"Violent\")\n",
    "    else:\n",
    "        nonViolentCount += 1\n",
    "        violent.append(\"Non-Violent\")\n",
    "\n",
    "crimes['Violence'] = violent\n",
    "del crimes2"
   ]
  },
  {
   "cell_type": "code",
   "execution_count": 42,
   "metadata": {},
   "outputs": [
    {
     "data": {
      "image/png": "[encoded data removed]",
      "text/plain": [
       "<Figure size 432x288 with 1 Axes>"
      ]
     },
     "metadata": {
      "needs_background": "light"
     },
     "output_type": "display_data"
    }
   ],
   "source": [
    "violent = crimes[crimes['Violence'] == \"Violent\"]\n",
    "nonviolent = crimes[crimes['Violence'] == \"Non-violent\"]\n",
    "sns.countplot(x = \"Time of Day\", color = \"green\", data = crimes)\n",
    "sns.countplot(x = \"Time of Day\", hue = \"Violence\", palette = {\"Violent\": \"#FF0000\", \"Non-Violent\": \"#3333FF\"}, data = crimes)\n",
    "plt.ylabel(\"Crime Count\")\n",
    "plt.title(\"Time of Day Violent and Non-Violent Crimes Occurred\")\n",
    "plt.show()"
   ]
  },
  {
   "cell_type": "code",
   "execution_count": 17,
   "metadata": {},
   "outputs": [],
   "source": [
    "from sklearn.preprocessing import StandardScaler\n",
    "from sklearn.svm import SVC\n",
    "\n",
    "ss = StandardScaler()\n",
    "\n",
    "clf = SVC(gamma='auto')"
   ]
  },
  {
   "cell_type": "code",
   "execution_count": 27,
   "metadata": {},
   "outputs": [
    {
     "name": "stderr",
     "output_type": "stream",
     "text": [
      "/anaconda3/lib/python3.7/site-packages/sklearn/preprocessing/data.py:625: DataConversionWarning: Data with input dtype uint8 were all converted to float64 by StandardScaler.\n",
      "  return self.partial_fit(X, y)\n",
      "/anaconda3/lib/python3.7/site-packages/sklearn/base.py:462: DataConversionWarning: Data with input dtype uint8 were all converted to float64 by StandardScaler.\n",
      "  return self.fit(X, **fit_params).transform(X)\n",
      "/anaconda3/lib/python3.7/site-packages/ipykernel_launcher.py:2: DataConversionWarning: Data with input dtype uint8 were all converted to float64 by StandardScaler.\n",
      "  \n"
     ]
    }
   ],
   "source": [
    "X_train = ss.fit_transform(X_train)\n",
    "X_test = ss.transform(X_test)"
   ]
  },
  {
   "cell_type": "code",
   "execution_count": 37,
   "metadata": {},
   "outputs": [
    {
     "data": {
      "text/plain": [
       "SVC(C=1.0, cache_size=200, class_weight=None, coef0=0.0,\n",
       "  decision_function_shape='ovr', degree=3, gamma='auto', kernel='rbf',\n",
       "  max_iter=-1, probability=False, random_state=None, shrinking=True,\n",
       "  tol=0.001, verbose=False)"
      ]
     },
     "execution_count": 37,
     "metadata": {},
     "output_type": "execute_result"
    }
   ],
   "source": [
    "clf.fit(X_train, y_train)"
   ]
  },
  {
   "cell_type": "code",
   "execution_count": 38,
   "metadata": {},
   "outputs": [
    {
     "data": {
      "text/plain": [
       "0.30482802145787313"
      ]
     },
     "execution_count": 38,
     "metadata": {},
     "output_type": "execute_result"
    }
   ],
   "source": [
    "clf.score(X_test, y_test)"
   ]
  },
  {
   "cell_type": "code",
   "execution_count": 41,
   "metadata": {},
   "outputs": [],
   "source": [
    "from sklearn.ensemble import RandomForestClassifier\n",
    "\n",
    "clf2 = RandomForestClassifier()"
   ]
  },
  {
   "cell_type": "code",
   "execution_count": 44,
   "metadata": {},
   "outputs": [
    {
     "name": "stderr",
     "output_type": "stream",
     "text": [
      "/anaconda3/lib/python3.7/site-packages/sklearn/ensemble/forest.py:246: FutureWarning: The default value of n_estimators will change from 10 in version 0.20 to 100 in 0.22.\n",
      "  \"10 in version 0.20 to 100 in 0.22.\", FutureWarning)\n"
     ]
    },
    {
     "data": {
      "text/plain": [
       "RandomForestClassifier(bootstrap=True, class_weight=None, criterion='gini',\n",
       "            max_depth=None, max_features='auto', max_leaf_nodes=None,\n",
       "            min_impurity_decrease=0.0, min_impurity_split=None,\n",
       "            min_samples_leaf=1, min_samples_split=2,\n",
       "            min_weight_fraction_leaf=0.0, n_estimators=10, n_jobs=None,\n",
       "            oob_score=False, random_state=None, verbose=0,\n",
       "            warm_start=False)"
      ]
     },
     "execution_count": 44,
     "metadata": {},
     "output_type": "execute_result"
    }
   ],
   "source": [
    "clf2.fit(X_train, y_train)"
   ]
  },
  {
   "cell_type": "code",
   "execution_count": 46,
   "metadata": {},
   "outputs": [
    {
     "data": {
      "text/plain": [
       "0.3360681603029347"
      ]
     },
     "execution_count": 46,
     "metadata": {},
     "output_type": "execute_result"
    }
   ],
   "source": [
    "clf2.score(X_test, y_test)"
   ]
  }
 ],
 "metadata": {
  "kernelspec": {
   "display_name": "Python 3",
   "language": "python",
   "name": "python3"
  },
  "language_info": {
   "codemirror_mode": {
    "name": "ipython",
    "version": 3
   },
   "file_extension": ".py",
   "mimetype": "text/x-python",
   "name": "python",
   "nbconvert_exporter": "python",
   "pygments_lexer": "ipython3",
   "version": "3.7.1"
  }
 },
 "nbformat": 4,
 "nbformat_minor": 4
}
